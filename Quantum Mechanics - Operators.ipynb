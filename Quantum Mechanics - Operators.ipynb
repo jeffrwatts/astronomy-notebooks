{
 "cells": [
  {
   "cell_type": "code",
   "execution_count": 1,
   "id": "f817fb8a",
   "metadata": {},
   "outputs": [],
   "source": [
    "from sympy import *\n",
    "\n",
    "import numpy as np\n",
    "\n",
    "from astropy import constants as const\n",
    "from astropy import units as u"
   ]
  },
  {
   "cell_type": "code",
   "execution_count": 2,
   "id": "558c1f8b",
   "metadata": {},
   "outputs": [],
   "source": [
    "n, z, t, m, hbar = symbols('n z t m hbar', real=True, positive=True)\n",
    "\n",
    "def hamiltonian(eq, x):\n",
    "    return -hbar**2/(2*m)*diff(eq, x, 2)\n",
    "\n",
    "def momentum(eq, x):\n",
    "    return -I*hbar*diff(eq, x)\n",
    "\n",
    "def position(eq, x):\n",
    "    return x*eq"
   ]
  },
  {
   "cell_type": "markdown",
   "id": "7f12c100",
   "metadata": {},
   "source": [
    "## Infinite Well"
   ]
  },
  {
   "cell_type": "code",
   "execution_count": 3,
   "id": "e9d53b8f",
   "metadata": {},
   "outputs": [],
   "source": [
    "L = symbols('L', real=True, positive=True)\n",
    "E_n = (n*pi*hbar)**2/(2*m*L**2)\n",
    "psi_n = sqrt(2/L)*sin(n*pi*z/L)\n",
    "psi_n_td = psi_n*exp(-I*E_n*t/hbar)"
   ]
  },
  {
   "cell_type": "code",
   "execution_count": 4,
   "id": "739bc08d",
   "metadata": {},
   "outputs": [
    {
     "data": {
      "text/latex": [
       "$\\displaystyle \\frac{\\pi^{2} \\hbar^{2} n^{2}}{2 L^{2} m}$"
      ],
      "text/plain": [
       "pi**2*hbar**2*n**2/(2*L**2*m)"
      ]
     },
     "execution_count": 4,
     "metadata": {},
     "output_type": "execute_result"
    }
   ],
   "source": [
    "E_n"
   ]
  },
  {
   "cell_type": "code",
   "execution_count": 5,
   "id": "3ac5ba30",
   "metadata": {},
   "outputs": [
    {
     "data": {
      "text/latex": [
       "$\\displaystyle \\frac{\\sqrt{2} \\sin{\\left(\\frac{\\pi n z}{L} \\right)}}{\\sqrt{L}}$"
      ],
      "text/plain": [
       "sqrt(2)*sin(pi*n*z/L)/sqrt(L)"
      ]
     },
     "execution_count": 5,
     "metadata": {},
     "output_type": "execute_result"
    }
   ],
   "source": [
    "psi_n"
   ]
  },
  {
   "cell_type": "code",
   "execution_count": 6,
   "id": "cf8d0839",
   "metadata": {},
   "outputs": [
    {
     "data": {
      "text/latex": [
       "$\\displaystyle \\frac{\\sqrt{2} e^{- \\frac{i \\pi^{2} \\hbar n^{2} t}{2 L^{2} m}} \\sin{\\left(\\frac{\\pi n z}{L} \\right)}}{\\sqrt{L}}$"
      ],
      "text/plain": [
       "sqrt(2)*exp(-I*pi**2*hbar*n**2*t/(2*L**2*m))*sin(pi*n*z/L)/sqrt(L)"
      ]
     },
     "execution_count": 6,
     "metadata": {},
     "output_type": "execute_result"
    }
   ],
   "source": [
    "psi_n_td"
   ]
  },
  {
   "cell_type": "code",
   "execution_count": 7,
   "id": "3d2e6401",
   "metadata": {},
   "outputs": [
    {
     "name": "stdout",
     "output_type": "stream",
     "text": [
      "Expectation of position is 0.500000000000000\n"
     ]
    }
   ],
   "source": [
    "# Calculate the position expectation.\n",
    "expectation_value_position = integrate(conjugate(psi_n_td)*position(psi_n_td, z), (z, 0, L))\n",
    "\n",
    "# Substitute the values\n",
    "values = {n:1, L:1, pi:np.pi, hbar:const.hbar.value, t:0}\n",
    "expectation_position = expectation_value_position.subs(values)\n",
    "print(f\"Expectation of position is {expectation_position}\")"
   ]
  },
  {
   "cell_type": "code",
   "execution_count": 8,
   "id": "c9c76286",
   "metadata": {},
   "outputs": [
    {
     "name": "stdout",
     "output_type": "stream",
     "text": [
      "Verify time independent: True\n",
      "Verify time dependent: True\n",
      "Verify energy expectation: True\n"
     ]
    }
   ],
   "source": [
    "# Confirm that hamiltonian time independent is equal to the energy level.\n",
    "time_independent = hamiltonian(psi_n, z) == E_n*psi_n\n",
    "\n",
    "# Confirm that time dependent is equal to i*hbar*psi(z, t)\n",
    "time_dependent = hamiltonian(psi_n_td, z)==I*hbar*diff(psi_n_td, t)\n",
    "\n",
    "# Verify expectation value\n",
    "energy_expectation = integrate(conjugate(psi_n_td)*hamiltonian(psi_n_td, z), (z, 0, L)).subs(n, 1) == E_n.subs(n, 1)\n",
    "\n",
    "print(f\"Verify time independent: {time_independent}\")\n",
    "print(f\"Verify time dependent: {time_dependent}\")\n",
    "print(f\"Verify energy expectation: {energy_expectation}\")"
   ]
  },
  {
   "cell_type": "code",
   "execution_count": 9,
   "id": "c7888a75",
   "metadata": {},
   "outputs": [
    {
     "name": "stdout",
     "output_type": "stream",
     "text": [
      "Verify time independent: True\n",
      "Verify time dependent: True\n"
     ]
    }
   ],
   "source": [
    "# Confirm classical relationship between momentum and energy (p**2/2m) for both\n",
    "# time independent and time dependent\n",
    "time_independent = momentum(momentum(psi_n, z), z)/(2*m)==hamiltonian(psi_n, z)\n",
    "time_dependent = momentum(momentum(psi_n_td, z), z)/(2*m)==hamiltonian(psi_n_td, z)\n",
    "print(f\"Verify time independent: {time_independent}\")\n",
    "print(f\"Verify time dependent: {time_dependent}\")"
   ]
  },
  {
   "cell_type": "code",
   "execution_count": 10,
   "id": "8f7c4329",
   "metadata": {},
   "outputs": [
    {
     "name": "stdout",
     "output_type": "stream",
     "text": [
      "Expectation of momentum is -5.27285908823078e-35*I + 2.63642954411539e-35*I*exp(-6.28318530717959*I) + 2.63642954411539e-35*I*exp(6.28318530717959*I)\n"
     ]
    }
   ],
   "source": [
    "# Calculate expectation value of momentum symbolically\n",
    "expectation_value_momentum = integrate(conjugate(psi_n)*momentum(psi_n, z), (z, 0, L))\n",
    "\n",
    "# Substitute the values\n",
    "result_momentum = expectation_value_momentum.subs(values)\n",
    "\n",
    "expectation_momentum = expectation_value_momentum.subs(values)\n",
    "\n",
    "# Note this should be zero, but it is close.\n",
    "print(f\"Expectation of momentum is {expectation_momentum}\")"
   ]
  },
  {
   "cell_type": "code",
   "execution_count": 11,
   "id": "e90f6c42",
   "metadata": {},
   "outputs": [
    {
     "data": {
      "text/latex": [
       "$\\displaystyle 0$"
      ],
      "text/plain": [
       "0"
      ]
     },
     "execution_count": 11,
     "metadata": {},
     "output_type": "execute_result"
    }
   ],
   "source": [
    "# Kronecker Deltas.\n",
    "n1_t0 = {n:1, t:0}\n",
    "n2_t0 = {n:2, t:0}\n",
    "integrate(psi_n_td.subs(n1_t0)*psi_n_td.subs(n2_t0), (z, 0, L))"
   ]
  },
  {
   "cell_type": "code",
   "execution_count": null,
   "id": "4a414f4e",
   "metadata": {},
   "outputs": [],
   "source": []
  }
 ],
 "metadata": {
  "kernelspec": {
   "display_name": "Python 3 (ipykernel)",
   "language": "python",
   "name": "python3"
  },
  "language_info": {
   "codemirror_mode": {
    "name": "ipython",
    "version": 3
   },
   "file_extension": ".py",
   "mimetype": "text/x-python",
   "name": "python",
   "nbconvert_exporter": "python",
   "pygments_lexer": "ipython3",
   "version": "3.10.10"
  }
 },
 "nbformat": 4,
 "nbformat_minor": 5
}
