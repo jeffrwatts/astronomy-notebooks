{
 "cells": [
  {
   "cell_type": "code",
   "execution_count": 1,
   "id": "d885e7a8",
   "metadata": {},
   "outputs": [],
   "source": [
    "import numpy as np\n",
    "import pandas as pd\n",
    "import matplotlib.pyplot as plt\n",
    "\n",
    "from astropy import units as u\n",
    "from astropy import constants as const\n",
    "from astropy.coordinates import SkyCoord\n",
    "from astropy.modeling.models import BlackBody\n",
    "\n",
    "from pypika import Table, CustomFunction\n",
    "from pypika.dialects import MSSQLQuery\n",
    "\n",
    "from astroquery.gaia import Gaia\n",
    "\n",
    "import sympy as sp\n",
    "\n",
    "pd.set_option('display.max_columns', None)"
   ]
  },
  {
   "cell_type": "markdown",
   "id": "7c4dfde2",
   "metadata": {},
   "source": [
    "## Retrieve data on Sirius A from Hipparcos catalog"
   ]
  },
  {
   "cell_type": "code",
   "execution_count": 2,
   "id": "7a8bfe9e",
   "metadata": {},
   "outputs": [
    {
     "name": "stdout",
     "output_type": "stream",
     "text": [
      "INFO: Query finished. [astroquery.utils.tap.core]\n",
      "Sirius A: RA = 101.2885 deg; dec = -16.7131 deg\n",
      "Sirius A: Apparent Magnitude -1.44\n",
      "Sirius A: Parallax 379.21 mas\n"
     ]
    }
   ],
   "source": [
    "# Get Coordinates for query by name\n",
    "c_a = SkyCoord.from_name(\"Sirius A\")\n",
    "\n",
    "def queryStarsFromHipparcos(coor, radius, top=100):\n",
    "    src = Table(\"public.hipparcos\")\n",
    "    funcDistance = CustomFunction('DISTANCE', ['ra_value', 'dec_value', 'ra_label', 'dec_label'])\n",
    "\n",
    "    q = MSSQLQuery \\\n",
    "        .from_(src) \\\n",
    "        .select(src.b_v, src.dedms, src.hip, src.plx, src.rahms, src.sptype, src.vmag) \\\n",
    "        .top(top) \\\n",
    "        .where(funcDistance(coor.ra.value, coor.dec.value, 'ra', 'de') < radius) \n",
    "\n",
    "    query_sql = q.get_sql() \n",
    "    query_sql = query_sql.replace('\"', '')                       # Remove \"\" around any select\n",
    "    query_sql = query_sql.replace(\"'ra'\", \"ra\")                  # Remove \"\" around ra in DISTANCE function if used\n",
    "    query_sql = query_sql.replace(\"'de'\", \"de\")                # Remove \"\" around dec in DISTANCE function if used\n",
    "    query_sql = query_sql.replace(f\"TOP ({top})\", f\"TOP {top}\")  # Remove \"()\" around TOP\n",
    "\n",
    "    job     = Gaia.launch_job_async(query_sql)\n",
    "    results = job.get_results()\n",
    "    df = results.to_pandas()\n",
    "    return df\n",
    "\n",
    "df_sirius_a = queryStarsFromHipparcos(c_a, 0.02)\n",
    "\n",
    "sirius_a_coor = SkyCoord(df_sirius_a.loc[0, 'rahms'], df_sirius_a.loc[0, 'dedms'], unit=(u.hourangle, u.deg))\n",
    "sirius_a_app_mag = df_sirius_a.loc[0, 'vmag'] # Magnitude in Johnson V \n",
    "sirius_a_parallax = df_sirius_a.loc[0, 'plx'] * u.mas\n",
    "\n",
    "print(f\"Sirius A: RA = {sirius_a_coor.ra:.4f}; dec = {sirius_a_coor.dec:.4f}\")\n",
    "print(f\"Sirius A: Apparent Magnitude {sirius_a_app_mag:.2f}\")\n",
    "print(f\"Sirius A: Parallax {sirius_a_parallax:.2f}\")\n"
   ]
  },
  {
   "cell_type": "markdown",
   "id": "130cca6d",
   "metadata": {},
   "source": [
    "## Retrieve Data on Sirius B through GAIA"
   ]
  },
  {
   "cell_type": "code",
   "execution_count": 3,
   "id": "1e9b90ab",
   "metadata": {},
   "outputs": [
    {
     "name": "stdout",
     "output_type": "stream",
     "text": [
      "Sirius B: RA = 101.2867 deg; dec = -16.7208 deg\n",
      "Sirius B: Apparent Magnitude 8.47\n",
      "Sirius B: Parallax 376.68 mas\n",
      "Sirius B: Flux (G-Band) 0.01 W / m2\n"
     ]
    }
   ],
   "source": [
    "# Get Coordinates for query by name\n",
    "c_b = SkyCoord.from_name(\"Sirius B\")\n",
    "job = Gaia.cone_search(c_b, radius = 20 * u.arcsecond)\n",
    "\n",
    "# Execute the job to retrieve the query results\n",
    "result = job.get_results()\n",
    "\n",
    "# Filter the results by parallax.  This should be about the same as Sirius A, so use 0.9 to be on the safe side\n",
    "filtered = result[result['parallax'] > sirius_a_parallax.value*0.9]\n",
    "df_sirius_b = filtered.to_pandas()\n",
    "df_sirius_b = df_sirius_b[['source_id', 'ra', 'dec', 'parallax', 'phot_g_mean_mag', 'phot_g_mean_flux', 'phot_bp_mean_mag', 'phot_bp_mean_flux', 'phot_rp_mean_mag', 'phot_rp_mean_flux', 'bp_rp', 'bp_g', 'g_rp', 'radius_val']]\n",
    "df_sirius_b['source_id'] = df_sirius_b['source_id'].astype(str)\n",
    "\n",
    "sirius_b_coor = SkyCoord(df_sirius_b.loc[0, 'ra'], df_sirius_b.loc[0, 'dec'], unit=(u.deg, u.deg))\n",
    "sirius_b_app_mag = df_sirius_b.loc[0, 'phot_g_mean_mag']\n",
    "sirius_b_parallax = df_sirius_b.loc[0, 'parallax'] * u.mas\n",
    "sirius_b_source_id = df_sirius_b.loc[0, 'source_id'] \n",
    "\n",
    "# Get the mean flux as measured from earth.  Flux of the star in units of nanojanskys (10^-9 Jy)\n",
    "sirius_b_flux_g_band = df_sirius_b.loc[0, 'phot_g_mean_flux'] * pow(10,-9) * u.W/u.m**2\n",
    "\n",
    "print(f\"Sirius B: RA = {sirius_b_coor.ra:.4f}; dec = {sirius_b_coor.dec:.4f}\")\n",
    "print(f\"Sirius B: Apparent Magnitude {sirius_b_app_mag:.2f}\")\n",
    "print(f\"Sirius B: Parallax {sirius_b_parallax:.2f}\")\n",
    "print(f\"Sirius B: Flux (G-Band) {sirius_b_flux_g_band:.2f}\")\n"
   ]
  },
  {
   "cell_type": "markdown",
   "id": "e77dfe4f",
   "metadata": {},
   "source": [
    "## Distance from parallax\n",
    "\n",
    "Geometric relationship between parallax angle and distance to star is:\n",
    "\n",
    "$$ \\tan{\\theta} = \\frac{L}{D} $$\n",
    "\n",
    "Where L is the distance from the earth to Sun, and D is the distance to the Star.\n",
    "\n",
    "Solving for D yields:\n",
    "\n",
    "$$ D = \\frac{L}{\\tan{\\theta}} $$\n",
    "\n",
    "A Parsec is defined as the distance at which 1 au (L) subtends an angle of one arcsecond ($\\frac{1}{3600}$th of a degree), which is equivalent to 3.2615638 light years.\n",
    "\n",
    "\n",
    "Given that we use parallax to measure distance to stars, $\\theta$ is often small enough that we can assume that $tan(\\theta)$ is equivalent to $\\theta$.  Thus the distance computation in parsecs simplifies to\n",
    "\n",
    "$$ D = \\frac{1}{\\theta} $$"
   ]
  },
  {
   "cell_type": "code",
   "execution_count": 4,
   "id": "6bf5ee42",
   "metadata": {},
   "outputs": [
    {
     "name": "stdout",
     "output_type": "stream",
     "text": [
      "tangent: 2.6371 pc; small angle approx: 2.6371 pc, delta: 91664.0000 m\n",
      "Sirius A: distance 2.64 pc; 8.60 lyr\n",
      "Sirius B: distance 2.65 pc; 8.66 lyr\n"
     ]
    }
   ],
   "source": [
    "# Sirius A distance in parsecs, using the tangent (result in meters)\n",
    "distance_tangent = const.au / np.tan(sirius_a_parallax.to(u.arcsecond).to(u.rad))\n",
    "\n",
    "# Sirius A distance in parsecs, using the 1/theta approximation (by definition units in parsecs)\n",
    "distance_small_angle_approx = 1 / sirius_a_parallax.to(u.arcsec).value * u.parsec\n",
    "\n",
    "# Show equivalence with small angle approximation.\n",
    "delta = abs(distance_tangent - distance_small_angle_approx.to(u.m))\n",
    "print(f\"tangent: {distance_tangent.to(u.parsec):.4f}; small angle approx: {distance_small_angle_approx:.4f}, delta: {delta:.4f}\")\n",
    "\n",
    "# Can also use handy equivalencies in astropy.\n",
    "sirius_a_distance = sirius_a_parallax.to(u.parsec, equivalencies=u.parallax())\n",
    "sirius_b_distance = sirius_b_parallax.to(u.parsec, equivalencies=u.parallax())\n",
    "\n",
    "print(f\"Sirius A: distance {sirius_a_distance:.2f}; {sirius_a_distance.to(u.lyr):.2f}\")\n",
    "print(f\"Sirius B: distance {sirius_b_distance:.2f}; {sirius_b_distance.to(u.lyr):.2f}\")\n"
   ]
  },
  {
   "cell_type": "markdown",
   "id": "192247ba",
   "metadata": {},
   "source": [
    "## Apparent and Absolute Magnitude\n",
    "\n",
    "#### Apparent Magnitude\n",
    "Hipparchus (Greek astronomer) invented a numerical scale to describe how bright each star appeared in the sky. He assigned an apparent magnitude m = 1 to the brightest stars, and he gave the dimmest (visible to the naked eye) an apparent magnitude of m = 6. Note that a smaller apparent  magnitude means a brighter-appearing star.\n",
    "\n",
    "By the modern definition, a difference of 5 magnitudes corresponds exactly to a factor of 100 in brightness, so a difference of 1 magnitude corresponds exactly to a  brightness ratio of $100^{\\frac{1}{5}} \\simeq 2.512$.\n",
    "\n",
    "Apparent magnitude is a measure of the brightness of a celestial object as seen from Earth. It is calculated from the measured flux, or amount of light, received from the object.\n",
    "\n",
    "The formula for calculating apparent magnitude is:\n",
    "\n",
    "$$ m = -2.5 log(\\frac{F}{F0}) $$\n",
    "\n",
    "where m is the apparent magnitude, F is the measured flux, and F0 is a reference flux (also known as a zero-point flux) that is defined as the flux of a standard star with a known magnitude.\n",
    "\n",
    "For this section we'll just use the apparent magnitudes as returned by Hipparcos (Sirius A) and Gaia (Sirius B) satellites instead of calculating using the above equation.  \n",
    "\n",
    "\n",
    "#### Absolute Magnitude\n",
    "Using the inverse square law, astronomers can assign an absolute magnitude, M, to each star. This is defined to be the apparent magnitude a star would have if it were located at a distance of 10 pc.\n",
    "\n",
    "Derive calculation of Absolute Magnitude given Apparent Magnitude and Distance.\n",
    "\n",
    "To start express formula for apparent magnitude in terms of flux F:\n",
    "\n",
    "$$ F = F0 \\times 10^{-\\frac{2.5}{m}} $$\n",
    "\n",
    "Now we'll take the ratio of two fluxes.  F1 is the flux as measured from the earth, and F2 is the flux as measured from 10pc.\n",
    "\n",
    "$$ \\frac{F2}{F1} = \\frac{10^{-\\frac{2.5}{m2}}}{10^{-\\frac{2.5}{m1}}} = 10^{\\frac{(m1-m2)}{2.5}}$$\n",
    "\n",
    "Take the log10 of both sides and solve for m2 (magnitude at 10pc):\n",
    "\n",
    "$$ log(\\frac{F2}{F1}) = \\frac{(m1-m2)}{2.5} $$\n",
    "\n",
    "$$ m2 = m1 - 2.5 \\times log (\\frac{F2}{F1}) $$\n",
    "\n",
    "Now, leverage the inverse square law to express flux ratios as distance ratios.\n",
    "\n",
    "Recall first that:\n",
    "\n",
    "$$ F = \\frac{L}{4 \\pi D^2} $$\n",
    "\n",
    "In taking F2/F1 the luminosity will cancel (since this is the same star) as well as the 4 $\\pi$ constants resulting in:\n",
    "\n",
    "$$ m2 = m1 - 2.5 \\times log ((\\frac{d1}{d2})^2) $$\n",
    "\n",
    "Simplying and making d2 equal to 10 parsecs results in the final equation.  Note m2 (absolute magnitude) is now M, and m1 (apparent magnitude) is now m.  d is the distance from earth in parsecs.\n",
    "\n",
    "$$ M = m - 5 \\times log(d/10) $$\n",
    "\n"
   ]
  },
  {
   "cell_type": "code",
   "execution_count": 5,
   "id": "769e5ac2",
   "metadata": {},
   "outputs": [
    {
     "name": "stdout",
     "output_type": "stream",
     "text": [
      "Sirius A: Absolute Magnitude 1.45\n",
      "Sirius B: Absolute Magnitude 11.35\n"
     ]
    }
   ],
   "source": [
    "# Compute the absolute magnitudes of Sirius A and B from parallax distance\n",
    "def calculateAbsoluteMagnitude(apparentMag, distance):\n",
    "    return apparentMag - 5*np.log10(distance.to(u.parsec).value/10.0)\n",
    "\n",
    "sirius_a_abs_mag = calculateAbsoluteMagnitude(sirius_a_app_mag, sirius_a_distance)\n",
    "sirius_b_abs_mag = calculateAbsoluteMagnitude(sirius_b_app_mag, sirius_b_distance)\n",
    "\n",
    "print(f\"Sirius A: Absolute Magnitude {sirius_a_abs_mag:.2f}\")\n",
    "print(f\"Sirius B: Absolute Magnitude {sirius_b_abs_mag:.2f}\")\n"
   ]
  },
  {
   "cell_type": "markdown",
   "id": "a695f529",
   "metadata": {},
   "source": [
    "## Luminosity from Absolute Magnitude\n",
    "\n",
    "While we can work out luminosity knowing the flux and distance through the inverse square law $ F = \\frac{L}{4 \\pi D^2} $.  There is a short hand for working out luminosity using the absolute magnitude. \n",
    "\n",
    "Returning back to the relationship between two magnitudes and two fluxes from above:\n",
    "\n",
    "$$ m2 = m1 - 2.5 \\times log (\\frac{F2}{F1}) $$\n",
    "\n",
    "Replace Flux with Luminosity (since both are related through a factor of $4 \\pi D^2$, and D is 10pcs for both Flux values)\n",
    "\n",
    "$$ m2 = m1 - 2.5 \\times log (\\frac{L2}{L1}) $$\n",
    "\n",
    "To simplify, use the luminosity of a star with absolute magnitude of 0 (Vega is defined as this reference), and solve for L.  Here L2 and m2 has been replaced with L and M (the luminosity and absolute magnitude of our star) and L1 has been replaced with L0, the luminosity of Vega which has an absolute magnitude of 0 (meaning m1 is 0)\n",
    "\n",
    "$$ M = -2.5 \\times log(\\frac{L}{L0}) $$\n",
    "\n",
    "Solve for L yields:\n",
    "\n",
    "$$ L = L0 \\times 10^{-\\frac{M}{2.5}} $$\n",
    "\n",
    "\n"
   ]
  },
  {
   "cell_type": "code",
   "execution_count": 6,
   "id": "e27d9770",
   "metadata": {},
   "outputs": [
    {
     "name": "stdout",
     "output_type": "stream",
     "text": [
      "Sirius A: Luminosity 20.61764 solLum\n",
      "Sirius B: Luminosity 0.00226 solLum\n"
     ]
    }
   ],
   "source": [
    "def calculateLuminosity(absoluteMag):\n",
    "    return const.L_bol0 * 10**(-absoluteMag/2.5)\n",
    "\n",
    "sirius_a_luminosity = calculateLuminosity(sirius_a_abs_mag) \n",
    "sirius_b_luminosity = calculateLuminosity(sirius_b_abs_mag) \n",
    "\n",
    "print(f\"Sirius A: Luminosity {sirius_a_luminosity.to(u.L_sun):.5f}\")\n",
    "print(f\"Sirius B: Luminosity {sirius_b_luminosity.to(u.L_sun):.5f}\")"
   ]
  },
  {
   "cell_type": "code",
   "execution_count": 7,
   "id": "96eb560d",
   "metadata": {},
   "outputs": [
    {
     "name": "stdout",
     "output_type": "stream",
     "text": [
      "Sun: Luminosity 1.00000 solLum\n"
     ]
    }
   ],
   "source": [
    "# Validation of some of the logic and functions above using the Sun.\n",
    "\n",
    "# Caluculate F0 - Absolute bolometric magnitude 0 adjusted out 10 parsecs.\n",
    "F0 = const.L_bol0/(4*np.pi*(10*u.parsec).to(u.m)**2)  \n",
    "\n",
    "# Calculate Flux of the sun from earth (for later caluculation of apparent magnitude) \n",
    "F_sun_earth = const.L_sun/(4*np.pi*const.au**2)\n",
    "\n",
    "# Apparent magnitude of the Sun.\n",
    "sun_app_mag = -2.5*np.log10(F_sun_earth/F0)\n",
    "\n",
    "# Calculate Absolute magnitude of the Sun.\n",
    "sun_abs_mag = calculateAbsoluteMagnitude(sun_app_mag, const.au)\n",
    "\n",
    "# Calculate luminosity of the sun\n",
    "sun_luminosity = calculateLuminosity(sun_abs_mag)\n",
    "\n",
    "# Verify - should be 1.0\n",
    "print(f\"Sun: Luminosity {sun_luminosity.to(u.L_sun):.5f}\")"
   ]
  },
  {
   "cell_type": "markdown",
   "id": "938ec2ee",
   "metadata": {},
   "source": [
    "## Calculate Combined Mass and Semi Major Axis of orbits through Kepler Equations\n",
    "\n",
    "Starting from Kepler's third law in its general form, we have:\n",
    "$$ P^2 = k a^3 $$\n",
    "\n",
    "Newton's Law of Gravitation states that the gravitational force between two objects is proportional to the product of their masses and inversely proportional to the square of the distance between them:\n",
    "\n",
    "$$ F_G = \\frac{G m_1 m_2}{r^2} $$\n",
    "\n",
    "If the stars are in circular orbit around each other, then the centripetal force required to keep them in orbit is:\n",
    "\n",
    "$$ F_C = \\frac{\\mu v^2}{r} $$\n",
    "\n",
    "For mass $\\mu$ we need to indroduce the reduced mass since we have two objects orbiting around each other.\n",
    "\n",
    "$$ \\mu = \\frac{m_1 m_2}{m1 + m2} $$\n",
    "\n",
    "Equate the gravitational force $F_G$ to the centripetal force $F_C$:\n",
    "\n",
    "$$ \\frac{G m_1 m_2}{r^2} =  \\frac{\\mu v^2}{r} $$ \n",
    "\n",
    "Velocity v is the distance of the orbit divided by the orbital period.  \n",
    "\n",
    "$$ v = \\frac{2 \\pi r}{P} $$\n",
    "\n",
    "Substituting in $\\mu$ and v and solving for $P^2$ yields form of Kepler's third law.\n",
    "\n",
    "$$ P^2 = \\frac{4 \\pi^2}{G (m_1 + m_2)} r^3 $$\n",
    "\n",
    "We can now solve for the combined mass as:\n",
    "\n",
    "$$ m_1 + m_2 = \\frac{4 \\pi^2}{G P^2} r^3 $$\n",
    "\n",
    "#### Calculating r\n",
    "\n",
    "r is the distance between the centers of the objects, also called the semi-major axis.  We can calculate this by finding the angular separation between Sirius A and Sirius B over their orbital period, which is documented as 7.4957 arcseconds.\n",
    "\n",
    "We can use a similar technique in determining distance via parallax to compute the distance between Sirius A and B.  Recalling:\n",
    "\n",
    "$$ \\tan{\\theta} = \\frac{L}{D} $$\n",
    "\n",
    "However in this case we solve for L (the distance between Sirius A and B).  We know $ \\theta $ which is the angular separation and we know D (the distance to Sirius A and B).  The semi-major axis L is therefore:\n",
    "\n",
    "$$ L = \\theta D  $$\n",
    "\n",
    "as $ \\tan{\\theta} \\sim \\theta $\n"
   ]
  },
  {
   "cell_type": "code",
   "execution_count": 8,
   "id": "10a1a1c4",
   "metadata": {},
   "outputs": [
    {
     "name": "stdout",
     "output_type": "stream",
     "text": [
      "Semi-major axis: 19.766620523995222 AU\n",
      "Combined Mass (Sirius A + Sirius B): 3.08 solMass\n"
     ]
    }
   ],
   "source": [
    "# Use angular_separation and orbital_period as givens (from Wikipedia)\n",
    "angular_separation = 7.4957 * u.arcsec\n",
    "orbital_period = 50.1 * u.year\n",
    "\n",
    "# Compute the semi-major axis of the orbit in parsecs\n",
    "semi_major_axis_au = (angular_separation.to(u.radian).value * sirius_a_distance).to(u.au)\n",
    "\n",
    "# Compute the combined mass of Sirius A and B using Kepler's third law\n",
    "combined_mass = ((4*np.pi**2 * semi_major_axis_au.to(u.m)**3) / (const.G * orbital_period.to(u.s)**2))\n",
    "\n",
    "# Print the results\n",
    "print(f\"Semi-major axis: {semi_major_axis_au}\")\n",
    "print(f\"Combined Mass (Sirius A + Sirius B): {combined_mass.to(u.M_sun):.2f}\")\n"
   ]
  },
  {
   "cell_type": "markdown",
   "id": "338a2d37",
   "metadata": {},
   "source": [
    "## Work out details of mass and center of gravity of the system\n",
    "\n",
    "Here will assume the mass of Sirius A is known.  Other methods are possible to calculate this like the mass luminosity relationship (TODO).\n",
    "\n",
    "Knowing the mass of Sirius A we can workout Sirius B's mass easily.\n",
    "\n",
    "#### Calculate the distance of each star to the center of gravity.\n",
    "\n",
    "Knowing the mass Sirius A and B, work out the distance to center of gravity in the system (radius A and radius B)\n",
    "\n",
    "First equation:\n",
    "$$ m_a \\times r_a = m_b \\times r_b $$\n",
    "\n",
    "Second Equation is to make centripidal force of Sirus A with Gravitation of the system.\n",
    "\n",
    "$$ \\frac{m_a v_a^2}{r_a} = \\frac{G m_a m_b}{(r_a + r_b)^2}$$\n",
    "\n",
    "Can solve for $ v_a $ by:\n",
    "\n",
    "$$ P = \\frac{2 \\pi r_a}{v_a} $$\n",
    "\n",
    "$$ v_a = \\frac{2 \\pi r_a}{P} $$\n",
    "\n",
    "Substitute in for $ v_a $:\n",
    "\n",
    "$$ \\frac{m_a 4 \\pi^2 r_a^2}{r_a P^2} = \\frac{G m_a m_b}{(r_a + r_b)^2}$$\n",
    "\n",
    "Solve for $ m_b $:\n",
    "\n",
    "$$ m_b = \\frac {4 pi^2}{G P^2} r_a (r_a + r_b)^2 $$\n",
    "\n",
    "We can now solve for two equations and two unknowns:"
   ]
  },
  {
   "cell_type": "code",
   "execution_count": 9,
   "id": "f03f6a1d",
   "metadata": {},
   "outputs": [
    {
     "name": "stdout",
     "output_type": "stream",
     "text": [
      "Sirius A: Mass 2.06 solMass\n",
      "Sirius B: Mass 1.01 solMass\n"
     ]
    }
   ],
   "source": [
    "# Assume we know the mass of Sirius A - TODO Is there some other way we can derive mass of Sirius A or B.\n",
    "sirius_a_mass = 2.063 * u.M_sun\n",
    "\n",
    "# Knowing the combined mass, and mass of Sirius A, we can work out Sirius B to be:\n",
    "sirius_b_mass = combined_mass.to(u.M_sun) - sirius_a_mass\n",
    "\n",
    "print(f\"Sirius A: Mass {sirius_a_mass:.2f}\")\n",
    "print(f\"Sirius B: Mass {sirius_b_mass:.2f}\")"
   ]
  },
  {
   "cell_type": "code",
   "execution_count": 10,
   "id": "9fa46e2e",
   "metadata": {},
   "outputs": [
    {
     "name": "stdout",
     "output_type": "stream",
     "text": [
      "Semi-major_axis (sum radius): 19.766621 AU\n",
      "Semi-major_axis (parallax calculation): 19.766621 AU\n",
      "Delta is 0.00048828125 m\n"
     ]
    }
   ],
   "source": [
    "# Can't use units with sympy.  Set up a couple of place holders.\n",
    "P = (orbital_period.to(u.s)).value # Orbital Period in Seconds.\n",
    "mass_A = sirius_a_mass.to(u.kg).value # Mass of Sirius A\n",
    "mass_B = sirius_b_mass.to(u.kg).value # Mass of Sirius B\n",
    "G = const.G.value\n",
    "\n",
    "# Set up the symbols for the two unknowns\n",
    "radius_A, radius_B = sp.symbols('radius_A radius_B')\n",
    "\n",
    "# Define the two equations\n",
    "eq1 = sp.Eq(mass_A*radius_A, mass_B*radius_B)\n",
    "eq2 = sp.Eq(mass_B, (4*np.pi**2/(G*P**2)) * radius_A * (radius_A + radius_B)**2)\n",
    "\n",
    "# Solve\n",
    "sol = sp.solve((eq1,eq2), (radius_A, radius_B))\n",
    "\n",
    "# There should be one real solution, and two imaginary.  Filter out the imaginary ones.\n",
    "real_sol = [s for s in sol if (s[0].is_real and s[1].is_real)]\n",
    "\n",
    "# Extract the two radii from the solution\n",
    "sirius_a_center_of_gravity_radius = real_sol[0][0] * u.m\n",
    "sirius_b_center_of_gravity_radius = real_sol[0][1] * u.m\n",
    "semi_major_axis_sum_radii = (sirius_a_center_of_gravity_radius + sirius_b_center_of_gravity_radius).to(u.au)\n",
    "\n",
    "# Compare the results to the parallax calculation\n",
    "print (f\"Semi-major_axis (sum radius): {semi_major_axis_sum_radii:3f}\")\n",
    "print (f\"Semi-major_axis (parallax calculation): {semi_major_axis_au:3f}\")\n",
    "print (f\"Delta is {abs(semi_major_axis_sum_radii.to(u.m)-semi_major_axis_au.to(u.m))}\")"
   ]
  },
  {
   "cell_type": "markdown",
   "id": "5bf9a490",
   "metadata": {},
   "source": [
    "## More in depth on Sirius B\n",
    "\n",
    "Sirius B has the approximate mass of the Sun, but is extremely faint as can be seen by the luminosity ratio between Sirius A and B.  This means that Sirius B is either very cool or very small per:\n",
    "\n",
    "$$ L = 4 \\pi R^2 \\sigma T^4 $$\n",
    "\n",
    "where $\\sigma$ is the Stefan-Boltzmann constant.\n",
    "\n",
    "Sirius B's spectrum shows that most of the engergy is concentrated in very low wavelengths, indicating it is very hot.  Unfortunately the Gaia spectrum only shows to 400 nm, so we can't fit a Blackbody curve to it, but the temperature of the star is estimated at 25,000 K.\n",
    "\n",
    "We can solve for the approximate radius by solving the above equation for R. (Note this is approximate as it is based on an ideal blackbody curve.)\n",
    "\n",
    "$$ R = \\sqrt{\\frac{L}{4 \\pi \\sigma T^4}} $$\n",
    "\n"
   ]
  },
  {
   "cell_type": "code",
   "execution_count": 11,
   "id": "38c4dc02",
   "metadata": {},
   "outputs": [
    {
     "data": {
      "text/plain": [
       "[<matplotlib.lines.Line2D at 0x284d11c30>]"
      ]
     },
     "execution_count": 11,
     "metadata": {},
     "output_type": "execute_result"
    },
    {
     "data": {
      "image/png": "[encoded data removed]",
      "text/plain": [
       "<Figure size 1600x800 with 1 Axes>"
      ]
     },
     "metadata": {},
     "output_type": "display_data"
    }
   ],
   "source": [
    "# Note: Would have liked to fit a spectrum to estimate temperature, but most of the energy in the \n",
    "# Sirius B spectrum is outside of the bands measured by GAIA, so need to take published values\n",
    "\n",
    "# Published temperatures for Sirius A and B\n",
    "sirius_a_temp = 9940 * u.K\n",
    "sirius_b_temp = 25000 * u.K\n",
    "\n",
    "# GAIA Units: Wavelength - nm; flux - W m-2 nm-1\n",
    "flux_units = u.W/u.m**2/u.nm\n",
    "\n",
    "# Obtain the spectrum of Sirius B from GAIA.\n",
    "datalink = Gaia.load_data(sirius_b_source_id, data_structure = 'INDIVIDUAL', retrieval_type = 'XP_SAMPLED')\n",
    "outputs = [datalink[key][0] for key in datalink.keys()]\n",
    "table = outputs[0].to_table()\n",
    "df_star_spectra = table.to_pandas()\n",
    "wavelength = (df_star_spectra['wavelength'].to_numpy()*u.nm)\n",
    "flux = df_star_spectra['flux'].to_numpy()*u.W/u.m**2/u.nm\n",
    "\n",
    "# Create a Blackbody spectrum for Sirius B to compare against spectrum.\n",
    "scale = np.pi/2 * pow(10, -20)*flux_units/u.sr\n",
    "bb = BlackBody(temperature=sirius_b_temp, scale=scale)\n",
    "bb_flux = bb(wavelength)\n",
    "\n",
    "# Plot Sirius B against Blackbody spectrum\n",
    "fig, ax = plt.subplots(figsize=(16, 8))\n",
    "ax.grid(color='grey', alpha=0.8, linestyle='-.', linewidth=0.2, axis='both') \n",
    "ax.plot(wavelength, flux)\n",
    "ax.plot(wavelength, bb_flux)"
   ]
  },
  {
   "cell_type": "code",
   "execution_count": 12,
   "id": "4679acd2",
   "metadata": {},
   "outputs": [
    {
     "name": "stdout",
     "output_type": "stream",
     "text": [
      "Sirius A: Radius 1.531 solRad\n",
      "Sirius B: Radius 1763.315 km\n",
      "Earth: Radius Published 6378.100 km\n",
      "Sirius B: Radius Published 5843.880 km\n"
     ]
    }
   ],
   "source": [
    "# Now that we know this is very hot and very dim, determine the star's size.\n",
    "# Note these values are a little off the published ones as the radius calculate assumes an ideal Blackbody\n",
    "# which Sirius A and B are not.\n",
    "def calculateRadius(luminosity, temp):\n",
    "    return np.sqrt(luminosity/(4*np.pi*const.sigma_sb*temp**4))\n",
    "\n",
    "sirius_a_radius = calculateRadius(sirius_a_luminosity, sirius_a_temp)\n",
    "sirius_b_radius = calculateRadius(sirius_b_luminosity, sirius_b_temp)\n",
    "\n",
    "print(f\"Sirius A: Radius {sirius_a_radius.to(u.R_sun):.3f}\")\n",
    "print(f\"Sirius B: Radius {sirius_b_radius.to(u.km):.3f}\")\n",
    "\n",
    "# Note published value is a bit different, probably due to some deviations from the ideal model from these equations.\n",
    "# The real value is actually just a bit smaller than the earth radius\n",
    "sirius_b_radius_published = 0.0084 * const.R_sun\n",
    "\n",
    "print(f\"Earth: Radius Published {const.R_earth.to(u.km):.3f}\")\n",
    "print(f\"Sirius B: Radius Published {sirius_b_radius_published.to(u.km):.3f}\")"
   ]
  },
  {
   "cell_type": "markdown",
   "id": "e32967bf",
   "metadata": {},
   "source": [
    "### Appendix: Alternative way of querying data from Hipparcos"
   ]
  },
  {
   "cell_type": "code",
   "execution_count": 13,
   "id": "b6aa87cb",
   "metadata": {},
   "outputs": [
    {
     "name": "stdout",
     "output_type": "stream",
     "text": [
      "Sirius A: RA = 101.2885 deg; dec = -16.7131 deg\n",
      "Sirius A: Apparent Magnitude -1.44\n",
      "Sirius A: Parallax 379.21 mas\n"
     ]
    }
   ],
   "source": [
    "from astroquery.vizier import Vizier\n",
    "\n",
    "alt_c_a = SkyCoord.from_name(\"Sirius A\")\n",
    "\n",
    "# Set the Vizier instance to use the Hipparcos catalog\n",
    "catalog = \"I/239/hip_main\"\n",
    "v = Vizier(columns=['HIP', 'RAhms', 'DEdms', 'Vmag', 'Plx', 'B-V', 'SpType'], row_limit=-1, catalog=catalog)\n",
    "result = v.query_region(SkyCoord(alt_c_a.ra.deg, alt_c_a.dec.deg, unit=(u.deg, u.deg)), radius=\"0.02 deg\")\n",
    "\n",
    "# Extract data\n",
    "alt_sirius_a_coor = SkyCoord(result[catalog]['RAhms'][0], result[catalog]['DEdms'][0], unit=(u.hourangle, u.deg))\n",
    "alt_sirius_a_app_mag = result[catalog]['Vmag'][0] # Magnitude in Johnson V \n",
    "alt_sirius_a_parallax = result[catalog]['Plx'][0] * u.mas\n",
    "\n",
    "print(f\"Sirius A: RA = {alt_sirius_a_coor.ra:.4f}; dec = {alt_sirius_a_coor.dec:.4f}\")\n",
    "print(f\"Sirius A: Apparent Magnitude {alt_sirius_a_app_mag:.2f}\")\n",
    "print(f\"Sirius A: Parallax {alt_sirius_a_parallax:.2f}\")"
   ]
  },
  {
   "cell_type": "code",
   "execution_count": null,
   "id": "7b01df4a",
   "metadata": {},
   "outputs": [],
   "source": []
  }
 ],
 "metadata": {
  "kernelspec": {
   "display_name": "Python 3 (ipykernel)",
   "language": "python",
   "name": "python3"
  },
  "language_info": {
   "codemirror_mode": {
    "name": "ipython",
    "version": 3
   },
   "file_extension": ".py",
   "mimetype": "text/x-python",
   "name": "python",
   "nbconvert_exporter": "python",
   "pygments_lexer": "ipython3",
   "version": "3.10.10"
  }
 },
 "nbformat": 4,
 "nbformat_minor": 5
}
