{
 "cells": [
  {
   "cell_type": "code",
   "execution_count": 9,
   "id": "d885e7a8",
   "metadata": {},
   "outputs": [],
   "source": [
    "import numpy as np\n",
    "from astropy import units as u\n",
    "from astropy import constants as const\n",
    "from astropy.coordinates import SkyCoord\n",
    "from sympy import symbols, Eq, solve"
   ]
  },
  {
   "cell_type": "markdown",
   "id": "6e5b04b1",
   "metadata": {},
   "source": [
    "### Constants for directly observed properties of Sirius A and B"
   ]
  },
  {
   "cell_type": "code",
   "execution_count": 10,
   "id": "89873bc2",
   "metadata": {},
   "outputs": [],
   "source": [
    "parallax = 0.37921 * u.arcsec\n",
    "angular_separation = 7.4957 * u.arcsec\n",
    "orbital_period = 50.1 * u.year\n",
    "\n",
    "apparent_magnitude_A = -1.46\n",
    "apparent_magnitude_B = 8.44\n",
    "\n",
    "spectral_type_A = \"A1V\"\n",
    "spectral_type_B = \"DA2\"\n"
   ]
  },
  {
   "cell_type": "markdown",
   "id": "938ec2ee",
   "metadata": {},
   "source": [
    "### Workout distance, magnitudes, and combined mass of system"
   ]
  },
  {
   "cell_type": "code",
   "execution_count": 12,
   "id": "10a1a1c4",
   "metadata": {},
   "outputs": [
    {
     "name": "stdout",
     "output_type": "stream",
     "text": [
      "Distance: 2.64 pc\n",
      "Absolute Magnitude A: 1.43\n",
      "Absolute Magnitude B: 11.33\n",
      "Luminosity A: 8.73e+27 W\n",
      "Luminosity B: 9.58e+23 W\n",
      "Semi-major axis: 19.766620078584424 AU\n",
      "Combined Mass (A + B): 3.08 solMass\n"
     ]
    }
   ],
   "source": [
    "# Compute distance via parallax\n",
    "distance = parallax.to(u.parsec, equivalencies=u.parallax())\n",
    "\n",
    "# Compute the absolute magnitudes of Sirius A and B from parallax distance\n",
    "absolute_magnitude_A = apparent_magnitude_A - 5 * np.log10(distance.value) + 5\n",
    "absolute_magnitude_B = apparent_magnitude_B - 5 * np.log10(distance.value) + 5\n",
    "\n",
    "# Compute the luminosities of Sirius A and B\n",
    "absolute_magnitude_Sun = 4.83\n",
    "luminosity_A = const.L_sun * 10 ** ((absolute_magnitude_Sun - absolute_magnitude_A) / 2.5)\n",
    "luminosity_B = const.L_sun * 10 ** ((absolute_magnitude_Sun - absolute_magnitude_B) / 2.5)\n",
    "\n",
    "# Compute the semi-major axis of the orbit in parsecs\n",
    "semi_major_axis_pc = (angular_separation.to(u.radian).value * distance).to(u.parsec)\n",
    "\n",
    "# Convert the semi-major axis to astronomical units\n",
    "semi_major_axis_au = semi_major_axis_pc.to(u.AU)\n",
    "\n",
    "# Compute the combined mass of Sirius A and B using Kepler's third law\n",
    "mass_A_plus_B = ((4*np.pi**2 * semi_major_axis_au**3) / (const.G * orbital_period**2)).to(u.M_sun)\n",
    "\n",
    "# Print the results\n",
    "print(f\"Distance: {distance:.2f}\")\n",
    "print(f\"Absolute Magnitude A: {absolute_magnitude_A:.2f}\")\n",
    "print(f\"Absolute Magnitude B: {absolute_magnitude_B:.2f}\")\n",
    "print(f\"Luminosity A: {luminosity_A:.2e}\")\n",
    "print(f\"Luminosity B: {luminosity_B:.2e}\")\n",
    "print(f\"Semi-major axis: {semi_major_axis_au}\")\n",
    "print(f\"Combined Mass (A + B): {mass_A_plus_B.to(u.M_sun):.2f}\")\n"
   ]
  },
  {
   "cell_type": "markdown",
   "id": "38d02f6c",
   "metadata": {},
   "source": [
    "### Work out other aspects of system\n",
    "\n",
    "Assume we know the mass of Sirius A and B, work out the distance to center of gravity in the system (radius A and radius B)\n",
    "\n",
    "First equation:\n",
    "$$ m_a \\times r_a = m_b \\times r_b $$\n",
    "\n",
    "Second Equation is to make centripidal force of Sirus A with Gravitation of the system.\n",
    "\n",
    "$$ \\frac{m_a v_a^2}{r_a} = \\frac{G m_a m_b}{(r_a + r_b)^2}$$\n",
    "\n",
    "Can solve for $ v_a $ by:\n",
    "\n",
    "$$ P = \\frac{2 \\pi r_a}{v_a} $$\n",
    "\n",
    "$$ v_a = \\frac{2 \\pi r_a}{P} $$\n",
    "\n",
    "Substitute in for $ v_a $:\n",
    "\n",
    "$$ \\frac{m_a 4 \\pi^2 r_a^2}{r_a P^2} = \\frac{G m_a m_b}{(r_a + r_b)^2}$$\n",
    "\n",
    "Solve for $ m_b $:\n",
    "\n",
    "$$ m_b = \\frac {4 pi^2}{G P^2} r_a (r_a + r_b)^2 $$\n",
    "\n",
    "Two equations and two unknowns"
   ]
  },
  {
   "cell_type": "code",
   "execution_count": 5,
   "id": "9fa46e2e",
   "metadata": {},
   "outputs": [],
   "source": [
    "# Assume we have mass of both Sirius A and B, find radius A and B\n",
    "P = (orbital_period.to(u.s)).value # Orbital Period in Seconds.\n",
    "mass_A = (2.063 * u.M_sun).to(u.kg).value # Mass of Sirius A\n",
    "mass_B = (1.018 * u.M_sun).to(u.kg).value # Mass of Sirius B\n",
    "G = const.G.value\n",
    "\n",
    "rA, rB = symbols('rA rB')"
   ]
  },
  {
   "cell_type": "code",
   "execution_count": 13,
   "id": "43a40d4a",
   "metadata": {},
   "outputs": [],
   "source": [
    "# Two equations and Two Unknowns (rA and rB)\n",
    "eq1 = Eq(mass_A*rA, mass_B*rB)\n",
    "eq2 = Eq(mass_B, (4*np.pi**2/(G*P**2)) * rA * (rA + rB)**2)"
   ]
  },
  {
   "cell_type": "code",
   "execution_count": 14,
   "id": "3f51292b",
   "metadata": {},
   "outputs": [
    {
     "data": {
      "text/plain": [
       "[(977458678388.455, 1980842095791.14),\n",
       " (-488729339194.228 - 846504046633.966*I,\n",
       "  -990421047895.569 - 1715459575840.73*I),\n",
       " (-488729339194.228 + 846504046633.966*I,\n",
       "  -990421047895.569 + 1715459575840.73*I)]"
      ]
     },
     "execution_count": 14,
     "metadata": {},
     "output_type": "execute_result"
    }
   ],
   "source": [
    "solve((eq1,eq2), (rA, rB))"
   ]
  },
  {
   "cell_type": "code",
   "execution_count": 15,
   "id": "7f862d76",
   "metadata": {},
   "outputs": [
    {
     "data": {
      "text/latex": [
       "$0.0083991803 \\; \\mathrm{AU}$"
      ],
      "text/plain": [
       "<Quantity 0.00839918 AU>"
      ]
     },
     "execution_count": 15,
     "metadata": {},
     "output_type": "execute_result"
    }
   ],
   "source": [
    "# The non imaginary number solution is therefore.\n",
    "radius_A = 977458678388.455 * u.m\n",
    "radius_B = 1980842095791.14 * u.m\n",
    "\n",
    "# Verify the distance between the objects and compare to semi_major_axis_au\n",
    "(radius_A + radius_B).to(u.au) - semi_major_axis_au"
   ]
  },
  {
   "cell_type": "code",
   "execution_count": null,
   "id": "7ad156be",
   "metadata": {},
   "outputs": [],
   "source": []
  }
 ],
 "metadata": {
  "kernelspec": {
   "display_name": "Python 3 (ipykernel)",
   "language": "python",
   "name": "python3"
  },
  "language_info": {
   "codemirror_mode": {
    "name": "ipython",
    "version": 3
   },
   "file_extension": ".py",
   "mimetype": "text/x-python",
   "name": "python",
   "nbconvert_exporter": "python",
   "pygments_lexer": "ipython3",
   "version": "3.10.10"
  }
 },
 "nbformat": 4,
 "nbformat_minor": 5
}
