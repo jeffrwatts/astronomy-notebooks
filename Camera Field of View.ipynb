{
 "cells": [
  {
   "cell_type": "code",
   "execution_count": 1,
   "id": "b2eb4c24",
   "metadata": {},
   "outputs": [],
   "source": [
    "from astropy import units as u\n",
    "from astropy import constants as c\n",
    "import numpy as np"
   ]
  },
  {
   "cell_type": "code",
   "execution_count": 4,
   "id": "fff996d6",
   "metadata": {},
   "outputs": [],
   "source": [
    "def calculateFOV(pixel_size, sensor_dimensions, focal_length):\n",
    "    deg_in_rad = (1*u.rad).to(u.deg).value\n",
    "    sensor_size_mm = sensor_dimensions * pixel_size.to(u.mm)  # Convert sensor size to mm\n",
    "    fov = (deg_in_rad / focal_length) * sensor_size_mm\n",
    "    return fov\n",
    "\n",
    "def calculateImageScale(pixel_size, focal_length):\n",
    "    image_scale = pixel_size.value / focal_length.value * 206.265\n",
    "    return image_scale\n",
    "\n",
    "def calculateSamplingStatus(image_scale, seeing_arcsec):\n",
    "    sampling_rate = seeing_arcsec / image_scale\n",
    "    if sampling_rate < 1:\n",
    "        return 'Undersampled'\n",
    "    elif sampling_rate > 2:\n",
    "        return 'Oversampled'\n",
    "    else:\n",
    "        return 'Optimally sampled'"
   ]
  },
  {
   "cell_type": "code",
   "execution_count": 6,
   "id": "e10b3773",
   "metadata": {},
   "outputs": [
    {
     "name": "stdout",
     "output_type": "stream",
     "text": [
      "ZWO ASI294 MC PRO\n",
      "sensor_size: [19.18672 13.06586] mm\n",
      "\n",
      "fov (deg):[0.54100299 0.36841468]; (min):[32.46017949 22.10488092]\n",
      "image_scale:0.4699837352362204 arcsec/pix\n",
      "image_scale_check:[32.46020998 22.10490168]\n",
      "sampling at seeing_arcsec2.0:Oversampled\n",
      "\n",
      "fov_reducer (deg):[0.85873491 0.58478521]; (min):[51.52409443 35.08711257]\n",
      "image_scale_reducer:0.7460059289463815 arcsec/pix\n",
      "image_scale_reducer_check:[51.52414283 35.08714552]\n",
      "sampling_reducer at seeing_arcsec2.0:Oversampled\n"
     ]
    }
   ],
   "source": [
    "# ZWO ASI294 MC PRO\n",
    "camera = \"ZWO ASI294 MC PRO\"\n",
    "pixel_size = 4.63 * u.um\n",
    "sensor_dimensions = np.array([4144.0, 2822.0])  # Width and Height in pixels\n",
    "focal_length = 2032 * u.mm\n",
    "barlow_reducer = 0.63\n",
    "\n",
    "seeing_arcsec = 2.0\n",
    "\n",
    "fov = calculateFOV(pixel_size, sensor_dimensions, focal_length)\n",
    "image_scale = calculateImageScale(pixel_size, focal_length)\n",
    "sampling = calculateSamplingStatus(image_scale, seeing_arcsec)\n",
    "\n",
    "fov_reducer = calculateFOV(pixel_size, sensor_dimensions, focal_length*barlow_reducer)\n",
    "image_scale_reducer = calculateImageScale(pixel_size, focal_length*barlow_reducer)\n",
    "sampling_reducer = calculateSamplingStatus(image_scale_reducer, seeing_arcsec)\n",
    "\n",
    "print (camera)\n",
    "print(f\"sensor_size: {pixel_size.to(u.mm)*sensor_dimensions}\")\n",
    "print(\"\")\n",
    "print (f\"fov (deg):{fov}; (min):{fov*60.0}\")\n",
    "print (f\"image_scale:{image_scale} arcsec/pix\")\n",
    "print (f\"image_scale_check:{image_scale*sensor_dimensions/60.0}\")\n",
    "print (f\"sampling at seeing_arcsec{seeing_arcsec}:{sampling}\")\n",
    "print(\"\")\n",
    "print (f\"fov_reducer (deg):{fov_reducer}; (min):{fov_reducer*60.0}\")\n",
    "print (f\"image_scale_reducer:{image_scale_reducer} arcsec/pix\")\n",
    "print (f\"image_scale_reducer_check:{image_scale_reducer*sensor_dimensions/60.0}\")\n",
    "print (f\"sampling_reducer at seeing_arcsec{seeing_arcsec}:{sampling_reducer}\")"
   ]
  },
  {
   "cell_type": "code",
   "execution_count": 7,
   "id": "b048f110",
   "metadata": {},
   "outputs": [
    {
     "name": "stdout",
     "output_type": "stream",
     "text": [
      "ZWO ASI174 MM MINI\n",
      "sensor_size: [11.34496  7.12576] mm\n",
      "\n",
      "fov (deg):[0.31989091 0.20092322]; (min):[19.19345453 12.05539293]\n",
      "image_scale:0.5948390255905511 arcsec/pix\n",
      "image_scale_check:[19.19347256 12.05540425]\n",
      "sampling at seeing_arcsec2.0:Oversampled\n",
      "\n",
      "fov_reducer (deg):[0.50776335 0.31892574]; (min):[30.46580084 19.13554433]\n",
      "image_scale_reducer:0.9441889295088114 arcsec/pix\n",
      "image_scale_reducer_check:[30.46582946 19.1355623 ]\n",
      "sampling_reducer at seeing_arcsec2.0:Oversampled\n"
     ]
    }
   ],
   "source": [
    "# ZWO ASI174 MM MINI\n",
    "camera = \"ZWO ASI174 MM MINI\"\n",
    "pixel_size = 5.86 * u.um\n",
    "sensor_dimensions = np.array([1936.0, 1216.0])  # Width and Height in pixels\n",
    "focal_length = 2032 * u.mm\n",
    "barlow_reducer = 0.63\n",
    "\n",
    "seeing_arcsec = 2.0\n",
    "\n",
    "fov = calculateFOV(pixel_size, sensor_dimensions, focal_length)\n",
    "image_scale = calculateImageScale(pixel_size, focal_length)\n",
    "sampling = calculateSamplingStatus(image_scale, seeing_arcsec)\n",
    "\n",
    "fov_reducer = calculateFOV(pixel_size, sensor_dimensions, focal_length*barlow_reducer)\n",
    "image_scale_reducer = calculateImageScale(pixel_size, focal_length*barlow_reducer)\n",
    "sampling_reducer = calculateSamplingStatus(image_scale_reducer, seeing_arcsec)\n",
    "\n",
    "print (camera)\n",
    "print(f\"sensor_size: {pixel_size.to(u.mm)*sensor_dimensions}\")\n",
    "print(\"\")\n",
    "print (f\"fov (deg):{fov}; (min):{fov*60.0}\")\n",
    "print (f\"image_scale:{image_scale} arcsec/pix\")\n",
    "print (f\"image_scale_check:{image_scale*sensor_dimensions/60.0}\")\n",
    "print (f\"sampling at seeing_arcsec{seeing_arcsec}:{sampling}\")\n",
    "print(\"\")\n",
    "print (f\"fov_reducer (deg):{fov_reducer}; (min):{fov_reducer*60.0}\")\n",
    "print (f\"image_scale_reducer:{image_scale_reducer} arcsec/pix\")\n",
    "print (f\"image_scale_reducer_check:{image_scale_reducer*sensor_dimensions/60.0}\")\n",
    "print (f\"sampling_reducer at seeing_arcsec{seeing_arcsec}:{sampling_reducer}\")"
   ]
  },
  {
   "cell_type": "code",
   "execution_count": null,
   "id": "387fd3e8",
   "metadata": {},
   "outputs": [],
   "source": []
  }
 ],
 "metadata": {
  "kernelspec": {
   "display_name": "Python 3 (ipykernel)",
   "language": "python",
   "name": "python3"
  },
  "language_info": {
   "codemirror_mode": {
    "name": "ipython",
    "version": 3
   },
   "file_extension": ".py",
   "mimetype": "text/x-python",
   "name": "python",
   "nbconvert_exporter": "python",
   "pygments_lexer": "ipython3",
   "version": "3.10.13"
  }
 },
 "nbformat": 4,
 "nbformat_minor": 5
}
