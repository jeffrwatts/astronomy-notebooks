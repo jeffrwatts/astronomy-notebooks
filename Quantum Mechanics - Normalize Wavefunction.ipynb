{
 "cells": [
  {
   "cell_type": "code",
   "execution_count": 1,
   "id": "20c27a74",
   "metadata": {},
   "outputs": [],
   "source": [
    "from IPython.display import display, Latex\n",
    "from sympy import sin, sqrt, exp, I, pi, symbols, conjugate, solve, integrate, latex\n",
    "from sympy.physics.units import hbar"
   ]
  },
  {
   "cell_type": "code",
   "execution_count": 2,
   "id": "b6a78fc1",
   "metadata": {},
   "outputs": [],
   "source": [
    "# To find the normalization coefficient (A), multiple the function by its complex conjugate, and integrate over\n",
    "# the interval of interest.  This should always be 1, so solve for A so that this is true.\n",
    "def normalize(f, a, b):\n",
    "    integral_expr = f(x)*conjugate(f(x))\n",
    "    integral_value = integrate(integral_expr, (x, a, b))\n",
    "    solutions = solve(integral_value - 1, A)\n",
    "    return solutions"
   ]
  },
  {
   "cell_type": "code",
   "execution_count": 3,
   "id": "621af102",
   "metadata": {},
   "outputs": [],
   "source": [
    "x = symbols('x')\n",
    "A = symbols('A', real=True)  \n",
    "t = symbols('t', real=True) \n",
    "n = symbols('n', positive=True, integer=True)  \n",
    "L = symbols('L', integer=True) "
   ]
  },
  {
   "cell_type": "code",
   "execution_count": 4,
   "id": "a297ce36",
   "metadata": {},
   "outputs": [
    {
     "data": {
      "text/latex": [
       "$A = - \\sqrt{2} \\sqrt{\\frac{1}{L}}$"
      ],
      "text/plain": [
       "<IPython.core.display.Latex object>"
      ]
     },
     "metadata": {},
     "output_type": "display_data"
    },
    {
     "data": {
      "text/latex": [
       "$A = \\sqrt{2} \\sqrt{\\frac{1}{L}}$"
      ],
      "text/plain": [
       "<IPython.core.display.Latex object>"
      ]
     },
     "metadata": {},
     "output_type": "display_data"
    }
   ],
   "source": [
    "f = lambda x: A*sin(n*pi*x/L)\n",
    "solutions = normalize(f, 0, L)\n",
    "for sol in solutions:\n",
    "    display(Latex(\"$A = \" + latex(sol) + \"$\"))"
   ]
  },
  {
   "cell_type": "code",
   "execution_count": 5,
   "id": "4aca688d",
   "metadata": {},
   "outputs": [
    {
     "data": {
      "text/latex": [
       "$A = - \\sqrt{\\frac{1}{L}}$"
      ],
      "text/plain": [
       "<IPython.core.display.Latex object>"
      ]
     },
     "metadata": {},
     "output_type": "display_data"
    },
    {
     "data": {
      "text/latex": [
       "$A = \\sqrt{\\frac{1}{L}}$"
      ],
      "text/plain": [
       "<IPython.core.display.Latex object>"
      ]
     },
     "metadata": {},
     "output_type": "display_data"
    }
   ],
   "source": [
    "E1, E2 = symbols('E1 E2', real=True) \n",
    "f = lambda x: A*(exp(-I*E1/hbar*t)*sin(pi*x/L) + exp(-I*E2/hbar*t)*sin(2*pi*x/L))\n",
    "solutions = normalize(f, 0, L)\n",
    "for sol in solutions:\n",
    "    display(Latex(\"$A = \" + latex(sol) + \"$\"))"
   ]
  },
  {
   "cell_type": "code",
   "execution_count": null,
   "id": "8b3331e8",
   "metadata": {},
   "outputs": [],
   "source": []
  }
 ],
 "metadata": {
  "kernelspec": {
   "display_name": "Python 3 (ipykernel)",
   "language": "python",
   "name": "python3"
  },
  "language_info": {
   "codemirror_mode": {
    "name": "ipython",
    "version": 3
   },
   "file_extension": ".py",
   "mimetype": "text/x-python",
   "name": "python",
   "nbconvert_exporter": "python",
   "pygments_lexer": "ipython3",
   "version": "3.10.10"
  }
 },
 "nbformat": 4,
 "nbformat_minor": 5
}
