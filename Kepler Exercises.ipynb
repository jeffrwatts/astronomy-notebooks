{
 "cells": [
  {
   "cell_type": "code",
   "execution_count": 1,
   "id": "3815888f",
   "metadata": {},
   "outputs": [],
   "source": [
    "from math import *\n",
    "import numpy as np\n",
    "import pandas as pd\n",
    "from datetime import datetime, timedelta\n",
    "import json\n",
    "\n",
    "import matplotlib.pyplot as plt\n",
    "\n",
    "import skyfield\n",
    "from skyfield.api import load\n",
    "from skyfield.api import N, W, S, E, wgs84\n",
    "from skyfield.api import Star\n",
    "from skyfield.data import hipparcos\n",
    "from skyfield.almanac import find_discrete, risings_and_settings"
   ]
  },
  {
   "cell_type": "code",
   "execution_count": 2,
   "id": "0b73b369",
   "metadata": {},
   "outputs": [],
   "source": [
    "ts = load.timescale()\n",
    "eph = load('de421.bsp')\n",
    "\n",
    "sun = eph['sun']\n",
    "mercury = eph['mercury']\n",
    "venus = eph['venus']\n",
    "earth = eph['earth']\n",
    "mars = eph['mars']\n",
    "jupiter = eph['JUPITER BARYCENTER']\n",
    "moon = eph['moon']\n",
    "\n",
    "with load.open(hipparcos.URL) as f:\n",
    "    stars_df = hipparcos.load_dataframe(f)\n",
    "    \n",
    "star_dictionary = {\"Alpheratz\":677, \"Ankaa\":2081, \"Schedar\":3179, \"Diphda\":3419, \"Achernar\":7588, \"Hamal\":9884, \"Polaris\":11767, \"Acamar\":13847, \"Menkar\":14135, \"Mirfak\":15863, \"Aldebaran\":21421, \"Rigel\":24436, \"Capella\":24608, \"Bellatrix\":25336, \"Elnath\":25428, \"Alnilam\":26311, \"Betelgeuse\":27989, \"Canopus\":30438, \"Sirius\":32349, \"Adhara\":33579, \"Procyon\":37279, \"Pollux\":37826, \"Avior\":41037, \"Suhail\":44816, \"Miaplacidus\":45238, \"Alphard\":46390, \"Regulus\":49669, \"Dubhe\":54061, \"Denebola\":57632, \"Gienah\":59803, \"Acrux\":60718, \"Gacrux\":61084, \"Alioth\":62956, \"Spica\":65474, \"Alkaid\":67301, \"Hadar\":68702, \"Menkent\":68933, \"Arcturus\":69673, \"Rigil Kent.\":71683, \"Kochab\":72607, \"Zuben'ubi\":72622, \"Alphecca\":76267, \"Antares\":80763, \"Atria\":82273, \"Sabik\":84012, \"Shaula\":85927, \"Rasalhague\":86032, \"Eltanin\":87833, \"Kaus Aust.\":90185, \"Vega\":91262, \"Nunki\":92855, \"Altair\":97649, \"Peacock\":100751, \"Deneb\":102098, \"Enif\":107315, \"Al Na'ir\":109268, \"Fomalhaut\":113368, \"Scheat\":113881, \"Markab\":113963}\n",
    "\n",
    "\n"
   ]
  },
  {
   "cell_type": "code",
   "execution_count": 3,
   "id": "66ea7e4f",
   "metadata": {},
   "outputs": [],
   "source": [
    "# https://nssdc.gsfc.nasa.gov/planetary/factsheet/index.html\n",
    "\n",
    "# Constants\n",
    "k = 0.01720209895\n",
    "KM_IN_AU = 149600000\n",
    "KG_IN_SOLAR_MASS = 1.989 * pow(10, 30)\n",
    "\n",
    "# Masses\n",
    "SUN_MASS_KG = KG_IN_SOLAR_MASS\n",
    "MERCURY_MASS_KG = 0.33 * pow(10,24)\n",
    "VENUS_MASS_KG = 4.87 * pow(10,24)\n",
    "EARTH_MASS_KG = 5.97 * pow(10,24)\n",
    "MARS_MASS_KG = 0.642 * pow(10,24)\n",
    "JUPITER_MASS_KG = 1898 * pow(10,24)\n",
    "MOON_MASS_KG = 0.073 * pow(10,24)\n",
    "\n",
    "SUN_MASS = 1.0\n",
    "MERCURY_MASS = MERCURY_MASS_KG / KG_IN_SOLAR_MASS\n",
    "VENUS_MASS = VENUS_MASS_KG / KG_IN_SOLAR_MASS\n",
    "EARTH_MASS = EARTH_MASS_KG / KG_IN_SOLAR_MASS\n",
    "MARS_MASS = MARS_MASS_KG / KG_IN_SOLAR_MASS\n",
    "JUPITER_MASS = JUPITER_MASS_KG / KG_IN_SOLAR_MASS\n",
    "MOON_MASS = MOON_MASS_KG / KG_IN_SOLAR_MASS\n",
    "\n",
    "# Distances\n",
    "MERCURY_SUN_DIST_KM = 57.9 * pow(10,6)\n",
    "VENUS_SUN_DIST_KM = 108.2 * pow(10,6)\n",
    "EARTH_SUN_DIST_KM = 149.6 * pow(10, 6)\n",
    "MARS_SUN_DIST_KM = 228.0 * pow(10, 6) \n",
    "JUPITER_SUN_DIST_KM = 778.5 * pow(10, 6)\n",
    "MOON_EARTH_DIST_KM = 0.384 * pow(10, 6) \n",
    "\n",
    "MERCURY_SUN_DIST = MERCURY_SUN_DIST_KM / KM_IN_AU\n",
    "VENUS_SUN_DIST = VENUS_SUN_DIST_KM / KM_IN_AU\n",
    "EARTH_SUN_DIST = EARTH_SUN_DIST_KM / KM_IN_AU\n",
    "MARS_SUN_DIST = MARS_SUN_DIST_KM / KM_IN_AU\n",
    "JUPITER_SUN_DIST = JUPITER_SUN_DIST_KM / KM_IN_AU\n",
    "MOON_EARTH_DIST = MOON_EARTH_DIST_KM / KM_IN_AU\n",
    "\n",
    "# Orbital Periods (in days)\n",
    "MERCURY_ORBITAL_PERIOD = 88.0\n",
    "VENUS_ORBITAL_PERIOD = 224.7\n",
    "EARTH_ORBITAL_PERIOD = 365.2\n",
    "MARS_ORBITAL_PERIOD = 687\n",
    "JUPITER_ORBITAL_PERIOD = 4331\n",
    "MOON_ORBITAL_PERIOD = 27.3\n",
    "\n",
    "# Orbital Eccentricity\n",
    "MERCURY_ECCENTRICITY = 0.206\n",
    "VENUS_ECCENTRICITY = 0.007\n",
    "EARTH_ECCENTRICITY = 0.017\n",
    "MARS_ECCENTRICITY = 0.094\n",
    "JUPITER_ECCENTRICITY = 0.049\n",
    "MOON_ECCENTRICITY = 0.055\n",
    "\n",
    "# Orbital Inclination\n",
    "MERCURY_ORBITAL_INCLINATION = 7.0\n",
    "VENUS_ORBITAL_INCLINATION = 3.4\n",
    "EARTH_ORBITAL_INCLINATION = 0 # by definition\n",
    "MARS_ORBITAL_INCLINATION = 1.8\n",
    "JUPITER_ORBITAL_INCLINATION = 1.3\n",
    "MOON_ORBITAL_INCLINATION = 5.1"
   ]
  },
  {
   "cell_type": "markdown",
   "id": "64ca0ca4",
   "metadata": {},
   "source": [
    "# Kepler 1st Law\n",
    "\n",
    "Generate a few orbits using Skyfield, and observe the ellipitical properities of the output."
   ]
  },
  {
   "cell_type": "code",
   "execution_count": 4,
   "id": "bd814131",
   "metadata": {},
   "outputs": [],
   "source": [
    "def Rx(theta):\n",
    "    return np.matrix([[ 1, 0 , 0],\n",
    "                   [ 0, cos(theta),-sin(theta)],\n",
    "                   [ 0, sin(theta), cos(theta)]])\n",
    "\n",
    "def Ry(theta):\n",
    "    return np.matrix([[ cos(theta), 0, sin(theta)],\n",
    "                   [ 0           , 1, 0           ],\n",
    "                   [-sin(theta), 0, cos(theta)]])\n",
    " \n",
    "def Rz(theta):\n",
    "    return np.matrix([[ cos(theta), -sin(theta), 0 ],\n",
    "                   [ sin(theta), cos(theta) , 0 ],\n",
    "                   [ 0           , 0            , 1 ]])"
   ]
  },
  {
   "cell_type": "code",
   "execution_count": 7,
   "id": "b8241101",
   "metadata": {},
   "outputs": [],
   "source": [
    "# Skyfield rotates orbits for planets around the X axis by the same tilt as earth 23.44 degrees.\n",
    "# For earth's moon, rotating by 25.65 seems to do better, but don't understand why.\n",
    "# Orbits of planets and the moon have published orbital inclination (about the Y-axis)\n",
    "PLANET_X_ADJUST = 23.44\n",
    "MOON_X_ADJUST = 25.65\n",
    "\n",
    "def generateOrbitData(refBody, orbitBody, orbitStart, orbitalPeriod, orbitalIncline, adjustX=PLANET_X_ADJUST):\n",
    "    timeStart = ts.ut1(orbitStart.year, orbitStart.month, orbitStart.day)\n",
    "    orbitEnd = orbitStart + timedelta(hours = ceil(orbitalPeriod*24))\n",
    "    timeEnd = ts.ut1(orbitEnd.year, orbitEnd.month, orbitEnd.day)\n",
    "    \n",
    "    samples = ceil(orbitalPeriod) * 24 # sample at every hour\n",
    "    sampleTimes = ts.linspace(timeStart, timeEnd, num=samples)\n",
    "    positions = np.zeros((samples, 3))\n",
    "    \n",
    "    for idx, time in enumerate(sampleTimes):\n",
    "        position = refBody.at(time).observe(orbitBody)\n",
    "        positions[idx] = position.xyz.au\n",
    "    \n",
    "\n",
    "    rotationMatrix = Rx(radians(adjustX*-1))\n",
    "    if (orbitalIncline!=0):\n",
    "        rotationMatrix = rotationMatrix*Ry(radians(orbitalIncline*-1))\n",
    "    positionsRotated = np.asarray(rotationMatrix.dot(positions.T).T)\n",
    "    \n",
    "    x = positionsRotated[:,0]\n",
    "    y = positionsRotated[:,1]\n",
    "    z = positionsRotated[:,2]\n",
    "    \n",
    "    xLen = (x.max() - x.min())/2\n",
    "    yLen = (y.max() - y.min())/2\n",
    "    \n",
    "    # Assign the longer dimension to a\n",
    "    if (xLen>yLen):\n",
    "        a = xLen\n",
    "        b = yLen\n",
    "    else:\n",
    "        a = yLen\n",
    "        b = xLen\n",
    "    \n",
    "    c = sqrt(pow(a,2)-pow(b,2))\n",
    "    e = c/a\n",
    "    \n",
    "    return x, y, a, c, e"
   ]
  },
  {
   "cell_type": "code",
   "execution_count": 8,
   "id": "deac3460",
   "metadata": {},
   "outputs": [],
   "source": [
    "# Generate and observe orbit data.\n",
    "dt = datetime(2022, 1, 1, 0, 0, 0)\n",
    "\n",
    "xMercury, yMercury, aMercury, cMercury, eMercury = generateOrbitData(sun, mercury, dt, MERCURY_ORBITAL_PERIOD, MERCURY_ORBITAL_INCLINATION)\n",
    "xVenus, yVenus, aVenus, cVenus, eVenus = generateOrbitData(sun, venus, dt, VENUS_ORBITAL_PERIOD, VENUS_ORBITAL_INCLINATION)\n",
    "xEarth, yEarth, aEarth, cEarth, eEarth = generateOrbitData(sun, earth, dt, EARTH_ORBITAL_PERIOD, EARTH_ORBITAL_INCLINATION)\n",
    "xMars, yMars, aMars, cMars, eMars = generateOrbitData(sun, mars, dt, MARS_ORBITAL_PERIOD, MARS_ORBITAL_INCLINATION)\n",
    "xJupiter, yJupiter, aJupiter, cJupiter, eJupiter = generateOrbitData(sun, jupiter, dt, JUPITER_ORBITAL_PERIOD, JUPITER_ORBITAL_INCLINATION)\n",
    "xMoon, yMoon, aMoon, cMoon, eMoon = generateOrbitData(earth, moon, dt, MOON_ORBITAL_PERIOD, MOON_ORBITAL_INCLINATION, MOON_X_ADJUST)\n",
    "\n"
   ]
  },
  {
   "cell_type": "code",
   "execution_count": 9,
   "id": "e479c138",
   "metadata": {},
   "outputs": [
    {
     "name": "stdout",
     "output_type": "stream",
     "text": [
      "Mercury: a: 0.38565735915043753; c:0.07136419581591424, e: 0.1850455958447728\n",
      "Venus: a: 0.72331235539094; c:0.008415244427131976, e: 0.011634315886369253\n",
      "Earth: a: 1.0000226824346785; c:0.01792215042014853, e: 0.017921743911362933\n",
      "Mars: a: 1.5225551571541136; c:0.12051931960721922, e: 0.07915596294881566\n",
      "Jupiter: a: 5.201943773598509; c:0.21677256606414227, e: 0.04167145503654438\n",
      "Moon: a: 0.002581338087530637; c:0.0003927322291955719, e: 0.1521428870912713\n"
     ]
    },
    {
     "data": {
      "image/png": "[encoded data removed]",
      "text/plain": [
       "<Figure size 640x480 with 1 Axes>"
      ]
     },
     "metadata": {},
     "output_type": "display_data"
    }
   ],
   "source": [
    "print(\"Mercury: a: {}; c:{}, e: {}\".format(aMercury, cMercury, eMercury))\n",
    "print(\"Venus: a: {}; c:{}, e: {}\".format(aVenus, cVenus, eVenus))\n",
    "print(\"Earth: a: {}; c:{}, e: {}\".format(aEarth, cEarth, eEarth))\n",
    "print(\"Mars: a: {}; c:{}, e: {}\".format(aMars, cMars, eMars))\n",
    "print(\"Jupiter: a: {}; c:{}, e: {}\".format(aJupiter, cJupiter, eJupiter))\n",
    "print(\"Moon: a: {}; c:{}, e: {}\".format(aMoon, cMoon, eMoon))\n",
    "\n",
    "\n",
    "plt.scatter(0,0, color='black') # true center\n",
    "plt.scatter(cEarth,0, color='orange') # refBody position at one of the foci (c)\n",
    "plt.scatter(xEarth,yEarth)\n",
    "plt.axis('equal')\n",
    "plt.xlabel('x position [au]')\n",
    "plt.ylabel('y position [au]')\n",
    "plt.show()"
   ]
  },
  {
   "cell_type": "markdown",
   "id": "04943ddc",
   "metadata": {},
   "source": [
    "# Kepler 3rd Law\n",
    "\n",
    "Use Kepler's Third Law to explore the relationship between orbital period and distance"
   ]
  },
  {
   "cell_type": "code",
   "execution_count": 10,
   "id": "54c1fc34",
   "metadata": {},
   "outputs": [],
   "source": [
    "def orbitalPeriod (distAU, mass1, mass2):\n",
    "    return sqrt((4*pow(pi,2))/(pow(k,2)*(mass1+mass2)) * pow(distAU, 3))"
   ]
  },
  {
   "cell_type": "code",
   "execution_count": 11,
   "id": "62f60ee7",
   "metadata": {},
   "outputs": [
    {
     "name": "stdout",
     "output_type": "stream",
     "text": [
      "Mercury: 0.3870320855614973 au. P = 87.94655783265084\n",
      "Venus: 0.7232620320855615 au. P = 224.6680914785737\n",
      "Earth: 1.0 au. P = 365.25635016675693\n",
      "Mars: 1.5240641711229947 au.  P = 687.2317838065143\n",
      "Jupiter: 5.203877005347594 au.  P = 4333.92955948361\n",
      "Moon: 0.0025668449197860962 au.  P = 27.251409358962366\n"
     ]
    }
   ],
   "source": [
    "# Use Constants\n",
    "print(\"Mercury: {} au. P = {}\".format(MERCURY_SUN_DIST, orbitalPeriod(MERCURY_SUN_DIST, SUN_MASS, MERCURY_MASS)))\n",
    "print(\"Venus: {} au. P = {}\".format(VENUS_SUN_DIST, orbitalPeriod(VENUS_SUN_DIST, SUN_MASS, VENUS_MASS)))\n",
    "print(\"Earth: {} au. P = {}\".format(EARTH_SUN_DIST, orbitalPeriod(EARTH_SUN_DIST, SUN_MASS, EARTH_MASS)))\n",
    "print(\"Mars: {} au.  P = {}\".format(MARS_SUN_DIST, orbitalPeriod(MARS_SUN_DIST, SUN_MASS, MARS_MASS)))\n",
    "print(\"Jupiter: {} au.  P = {}\".format(JUPITER_SUN_DIST, orbitalPeriod(JUPITER_SUN_DIST, SUN_MASS, JUPITER_MASS)))\n",
    "print(\"Moon: {} au.  P = {}\".format(MOON_EARTH_DIST, orbitalPeriod(MOON_EARTH_DIST, EARTH_MASS, MOON_MASS)))\n",
    "\n",
    "\n"
   ]
  },
  {
   "cell_type": "code",
   "execution_count": 12,
   "id": "9a067b81",
   "metadata": {},
   "outputs": [
    {
     "name": "stdout",
     "output_type": "stream",
     "text": [
      "Mercury: 0.38565735915043753 au. P = 87.94655783265084\n",
      "Venus: 0.72331235539094 au. P = 224.69153990487578\n",
      "Earth: 1.0000226824346785 au. P = 365.2687775921827\n",
      "Mars: 1.5225551571541136 au.  P = 686.2113684868934\n",
      "Jupiter: 5.201943773598509 au.  P = 4331.514712240758\n",
      "Moon: 0.002581338087530637 au.  P = 27.482539160448617\n"
     ]
    }
   ],
   "source": [
    "# Use Skyfield generated data\n",
    "print(\"Mercury: {} au. P = {}\".format(aMercury, orbitalPeriod(MERCURY_SUN_DIST, SUN_MASS, MERCURY_MASS)))\n",
    "print(\"Venus: {} au. P = {}\".format(aVenus, orbitalPeriod(aVenus, SUN_MASS, VENUS_MASS)))\n",
    "print(\"Earth: {} au. P = {}\".format(aEarth, orbitalPeriod(aEarth, SUN_MASS, EARTH_MASS)))\n",
    "print(\"Mars: {} au.  P = {}\".format(aMars, orbitalPeriod(aMars, SUN_MASS, MARS_MASS)))\n",
    "print(\"Jupiter: {} au.  P = {}\".format(aJupiter, orbitalPeriod(aJupiter, SUN_MASS, JUPITER_MASS)))\n",
    "print(\"Moon: {} au.  P = {}\".format(aMoon, orbitalPeriod(aMoon, EARTH_MASS, MOON_MASS)))\n"
   ]
  },
  {
   "cell_type": "code",
   "execution_count": null,
   "id": "02a25f0d",
   "metadata": {},
   "outputs": [],
   "source": []
  }
 ],
 "metadata": {
  "kernelspec": {
   "display_name": "Python 3 (ipykernel)",
   "language": "python",
   "name": "python3"
  },
  "language_info": {
   "codemirror_mode": {
    "name": "ipython",
    "version": 3
   },
   "file_extension": ".py",
   "mimetype": "text/x-python",
   "name": "python",
   "nbconvert_exporter": "python",
   "pygments_lexer": "ipython3",
   "version": "3.10.10"
  }
 },
 "nbformat": 4,
 "nbformat_minor": 5
}
