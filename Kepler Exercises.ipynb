{
 "cells": [
  {
   "cell_type": "code",
   "execution_count": 1,
   "id": "3815888f",
   "metadata": {},
   "outputs": [],
   "source": [
    "from math import *\n",
    "import numpy as np\n",
    "import pandas as pd\n",
    "from datetime import datetime, timedelta\n",
    "import json\n",
    "\n",
    "import matplotlib.pyplot as plt\n",
    "\n",
    "import skyfield\n",
    "from skyfield.api import load\n",
    "from skyfield.api import N, W, S, E, wgs84\n",
    "from skyfield.api import Star\n",
    "from skyfield.data import hipparcos\n",
    "from skyfield.almanac import find_discrete, risings_and_settings"
   ]
  },
  {
   "cell_type": "code",
   "execution_count": 2,
   "id": "0b73b369",
   "metadata": {},
   "outputs": [],
   "source": [
    "ts = load.timescale()\n",
    "eph = load('de421.bsp')\n",
    "\n",
    "sun = eph['sun']\n",
    "earth = eph['earth']\n",
    "mars = eph['mars']\n",
    "jupiter = eph['JUPITER BARYCENTER']\n",
    "moon = eph['moon']\n",
    "\n",
    "with load.open(hipparcos.URL) as f:\n",
    "    stars_df = hipparcos.load_dataframe(f)\n",
    "    \n",
    "star_dictionary = {\"Alpheratz\":677, \"Ankaa\":2081, \"Schedar\":3179, \"Diphda\":3419, \"Achernar\":7588, \"Hamal\":9884, \"Polaris\":11767, \"Acamar\":13847, \"Menkar\":14135, \"Mirfak\":15863, \"Aldebaran\":21421, \"Rigel\":24436, \"Capella\":24608, \"Bellatrix\":25336, \"Elnath\":25428, \"Alnilam\":26311, \"Betelgeuse\":27989, \"Canopus\":30438, \"Sirius\":32349, \"Adhara\":33579, \"Procyon\":37279, \"Pollux\":37826, \"Avior\":41037, \"Suhail\":44816, \"Miaplacidus\":45238, \"Alphard\":46390, \"Regulus\":49669, \"Dubhe\":54061, \"Denebola\":57632, \"Gienah\":59803, \"Acrux\":60718, \"Gacrux\":61084, \"Alioth\":62956, \"Spica\":65474, \"Alkaid\":67301, \"Hadar\":68702, \"Menkent\":68933, \"Arcturus\":69673, \"Rigil Kent.\":71683, \"Kochab\":72607, \"Zuben'ubi\":72622, \"Alphecca\":76267, \"Antares\":80763, \"Atria\":82273, \"Sabik\":84012, \"Shaula\":85927, \"Rasalhague\":86032, \"Eltanin\":87833, \"Kaus Aust.\":90185, \"Vega\":91262, \"Nunki\":92855, \"Altair\":97649, \"Peacock\":100751, \"Deneb\":102098, \"Enif\":107315, \"Al Na'ir\":109268, \"Fomalhaut\":113368, \"Scheat\":113881, \"Markab\":113963}"
   ]
  },
  {
   "cell_type": "code",
   "execution_count": 3,
   "id": "66ea7e4f",
   "metadata": {},
   "outputs": [],
   "source": [
    "# https://nssdc.gsfc.nasa.gov/planetary/factsheet/index.html\n",
    "\n",
    "# Constants\n",
    "k = 0.01720209895\n",
    "KM_IN_AU = 149600000\n",
    "KG_IN_SOLAR_MASS = 1.989 * pow(10, 30)\n",
    "\n",
    "# Masses\n",
    "SUN_MASS_KG = KG_IN_SOLAR_MASS\n",
    "EARTH_MASS_KG = 5.97 * pow(10,24)\n",
    "MARS_MASS_KG = 0.642 * pow(10,24)\n",
    "JUPITER_MASS_KG = 1898 * pow(10,24)\n",
    "MOON_MASS_KG = 0.073 * pow(10,24)\n",
    "\n",
    "SUN_MASS = 1.0\n",
    "EARTH_MASS = EARTH_MASS_KG / KG_IN_SOLAR_MASS\n",
    "MARS_MASS = MARS_MASS_KG / KG_IN_SOLAR_MASS\n",
    "JUPITER_MASS = JUPITER_MASS_KG / KG_IN_SOLAR_MASS\n",
    "MOON_MASS = MOON_MASS_KG / KG_IN_SOLAR_MASS\n",
    "\n",
    "# Distances\n",
    "EARTH_SUN_DIST_KM = 149.6 * pow(10, 6)\n",
    "MARS_SUN_DIST_KM = 228.0 * pow(10, 6) \n",
    "JUPITER_SUN_DIST_KM = 778.5 * pow(10, 6)\n",
    "MOON_EARTH_DIST_KM = 0.384 * pow(10, 6) \n",
    "\n",
    "EARTH_SUN_DIST = EARTH_SUN_DIST_KM / KM_IN_AU\n",
    "MARS_SUN_DIST = MARS_SUN_DIST_KM / KM_IN_AU\n",
    "JUPITER_SUN_DIST = JUPITER_SUN_DIST_KM / KM_IN_AU\n",
    "MOON_EARTH_DIST = MOON_EARTH_DIST_KM / KM_IN_AU\n",
    "\n",
    "# Orbital Periods (in days)\n",
    "EARTH_ORBITIAL_PERIOD = 365.2\n",
    "MARS_ORBITIAL_PERIOD = 687\n",
    "JUPITER_ORBITIAL_PERIOD = 4331\n",
    "MOON_ORBITAL_PERIOD = 27.3\n",
    "\n",
    "# Orbital Eccentricity\n",
    "EARTH_ECCENTYICITY = 0.017\n",
    "MARS_ECCENTYICITY = 0.094\n",
    "JUPITER_ECCENTYICITY = 0.049\n",
    "MOON_ECCENTYICITY = 0.055"
   ]
  },
  {
   "cell_type": "markdown",
   "id": "64ca0ca4",
   "metadata": {},
   "source": [
    "# Kepler 1st Law\n",
    "\n",
    "Generate a few orbits using Skyfield, and observe the ellipitical properities of the output."
   ]
  },
  {
   "cell_type": "code",
   "execution_count": 4,
   "id": "bd814131",
   "metadata": {},
   "outputs": [],
   "source": [
    "# Skyfield plots position with some degree Z... to reduce to a plane need to rotate abot the X axis\n",
    "\n",
    "earthRotation = -23.44\n",
    "marsRotation = -24.64\n",
    "jupiterRotation = -23.21\n",
    "moonRotation = -25.96\n",
    "\n",
    "def Rx(theta):\n",
    "    return np.matrix([[ 1, 0 , 0],\n",
    "                   [ 0, cos(theta),-sin(theta)],\n",
    "                   [ 0, sin(theta), cos(theta)]])"
   ]
  },
  {
   "cell_type": "code",
   "execution_count": 5,
   "id": "b8241101",
   "metadata": {},
   "outputs": [],
   "source": [
    "def generateOrbitData(refBody, orbitBody, orbitStart, orbitalPeriod, rotX):\n",
    "    timeStart = ts.ut1(orbitStart.year, orbitStart.month, orbitStart.day)\n",
    "    orbitEnd = orbitStart + timedelta(hours = ceil(orbitalPeriod*24))\n",
    "    timeEnd = ts.ut1(orbitEnd.year, orbitEnd.month, orbitEnd.day)\n",
    "    \n",
    "    samples = ceil(orbitalPeriod * 24) # sample at every 2 hours\n",
    "    sampleTimes = ts.linspace(timeStart, timeEnd, num=samples)\n",
    "    positions = np.zeros((samples, 3))\n",
    "    distances = np.zeros((samples))\n",
    "    \n",
    "    for idx, time in enumerate(sampleTimes):\n",
    "        position = refBody.at(time).observe(orbitBody)\n",
    "        positions[idx] = position.xyz.au\n",
    "        distances[idx] = position.distance().au\n",
    "        \n",
    "    z = positions[:,2]\n",
    "    zRange = z.max()-z.min()\n",
    "    print(zRange)\n",
    "    \n",
    "    # TODO Calculate the correct rotation\n",
    "    rotationMatrix = Rx(radians(rotX))    \n",
    "    positionsRotated = np.asarray(rotationMatrix.dot(positions.T).T)\n",
    "    \n",
    "    x = positionsRotated[:,0]\n",
    "    y = positionsRotated[:,1]\n",
    "    z = positionsRotated[:,2]\n",
    "    print(z.max() - z.min())\n",
    "    \n",
    "    a = (x.max() - x.min())/2\n",
    "    b = (y.max() - y.min())/2\n",
    "    c = sqrt(abs(pow(a,2)-pow(b,2)))\n",
    "    e = c/a\n",
    "    \n",
    "    return x, y, c, e, distances.mean()"
   ]
  },
  {
   "cell_type": "code",
   "execution_count": 6,
   "id": "deac3460",
   "metadata": {},
   "outputs": [
    {
     "name": "stdout",
     "output_type": "stream",
     "text": [
      "0.0022606595753566494\n",
      "0.00039716190856829643\n",
      "0.7954782233454409\n",
      "0.00013257259319223076\n",
      "1.2679283207533518\n",
      "0.07465403847792935\n",
      "4.100671337773979\n",
      "0.23272254636183926\n"
     ]
    }
   ],
   "source": [
    "# Generate and observe orbit data.\n",
    "\n",
    "dt = datetime(2022, 1, 1, 0, 0, 0)\n",
    "\n",
    "xMoon, yMoon, cMoon, eMoon, distMoon = generateOrbitData(earth, moon, dt, MOON_ORBITAL_PERIOD, moonRotation)\n",
    "xEarth, yEarth, cEarth, eEarth, distEarth = generateOrbitData(sun, earth, dt, EARTH_ORBITIAL_PERIOD, earthRotation)\n",
    "xMars, yMars, cMars, eMars, distMars = generateOrbitData(sun, mars, dt, MARS_ORBITIAL_PERIOD, marsRotation)\n",
    "xJupiter, yJupiter, cJupiter, eJupiter, distJupiter = generateOrbitData(sun, jupiter, dt, JUPITER_ORBITIAL_PERIOD, jupiterRotation)\n",
    "\n"
   ]
  },
  {
   "cell_type": "code",
   "execution_count": 7,
   "id": "e479c138",
   "metadata": {},
   "outputs": [
    {
     "name": "stdout",
     "output_type": "stream",
     "text": [
      "Earth: dist: 1.000151627728182; e: 0.01792541036000108\n",
      "Mars: dist: 1.5303051978176965; e: 0.071323916038034\n",
      "Jupiter: dist: 5.209068802986188; e: 0.03521799982909289\n",
      "Moon: dist: 0.0025788538141357834; e: 0.13701127968832527\n"
     ]
    },
    {
     "data": {
      "image/png": "[encoded data removed]",
      "text/plain": [
       "<Figure size 640x480 with 1 Axes>"
      ]
     },
     "metadata": {},
     "output_type": "display_data"
    }
   ],
   "source": [
    "print(\"Earth: dist: {}; e: {}\".format(distEarth, eEarth))\n",
    "print(\"Mars: dist: {}; e: {}\".format(distMars, eMars))\n",
    "print(\"Jupiter: dist: {}; e: {}\".format(distJupiter, eJupiter))\n",
    "print(\"Moon: dist: {}; e: {}\".format(distMoon, eMoon))\n",
    "\n",
    "plt.scatter(0,0, color='black') # true center\n",
    "plt.scatter(cEarth,0, color='orange') # refBody position at one of the foci (c)\n",
    "plt.scatter(xEarth,yEarth)\n",
    "plt.axis('equal')\n",
    "plt.xlabel('x position [au]')\n",
    "plt.ylabel('y position [au]')\n",
    "plt.show()"
   ]
  },
  {
   "cell_type": "markdown",
   "id": "04943ddc",
   "metadata": {},
   "source": [
    "# Kepler 3rd Law\n",
    "\n",
    "Use Kepler's Third Law to explore the relationship between orbital period and distance"
   ]
  },
  {
   "cell_type": "code",
   "execution_count": 8,
   "id": "54c1fc34",
   "metadata": {},
   "outputs": [],
   "source": [
    "def orbitalPeriod (distAU, mass1, mass2):\n",
    "    return sqrt((4*pow(pi,2))/(pow(k,2)*(mass1+mass2)) * pow(distAU, 3))"
   ]
  },
  {
   "cell_type": "code",
   "execution_count": 9,
   "id": "62f60ee7",
   "metadata": {},
   "outputs": [
    {
     "name": "stdout",
     "output_type": "stream",
     "text": [
      "Earth: 1.0 au. P = 365.25635016675693\n",
      "Mars: 1.5240641711229947 au.  P = 687.2317838065143\n",
      "Jupiter: 5.203877005347594 au.  P = 4333.92955948361\n",
      "Moon: 0.0025668449197860962 au.  P = 27.251409358962366\n"
     ]
    }
   ],
   "source": [
    "# Use Constants\n",
    "print(\"Earth: {} au. P = {}\".format(EARTH_SUN_DIST, orbitalPeriod(EARTH_SUN_DIST, SUN_MASS, EARTH_MASS)))\n",
    "print(\"Mars: {} au.  P = {}\".format(MARS_SUN_DIST, orbitalPeriod(MARS_SUN_DIST, SUN_MASS, MARS_MASS)))\n",
    "print(\"Jupiter: {} au.  P = {}\".format(JUPITER_SUN_DIST, orbitalPeriod(JUPITER_SUN_DIST, SUN_MASS, JUPITER_MASS)))\n",
    "print(\"Moon: {} au.  P = {}\".format(MOON_EARTH_DIST, orbitalPeriod(MOON_EARTH_DIST, EARTH_MASS, MOON_MASS)))\n",
    "\n",
    "\n"
   ]
  },
  {
   "cell_type": "code",
   "execution_count": 10,
   "id": "9a067b81",
   "metadata": {},
   "outputs": [
    {
     "name": "stdout",
     "output_type": "stream",
     "text": [
      "Earth: 1.000151627728182 au. P = 365.3394278016459\n",
      "Mars: 1.5303051978176965 au.  P = 691.4574127686532\n",
      "Jupiter: 5.209068802986188 au.  P = 4340.416981206117\n",
      "Moon: 0.0025788538141357834 au.  P = 27.44287501581148\n"
     ]
    }
   ],
   "source": [
    "# Use Skyfield generated data\n",
    "print(\"Earth: {} au. P = {}\".format(distEarth, orbitalPeriod(distEarth, SUN_MASS, EARTH_MASS)))\n",
    "print(\"Mars: {} au.  P = {}\".format(distMars, orbitalPeriod(distMars, SUN_MASS, MARS_MASS)))\n",
    "print(\"Jupiter: {} au.  P = {}\".format(distJupiter, orbitalPeriod(distJupiter, SUN_MASS, JUPITER_MASS)))\n",
    "print(\"Moon: {} au.  P = {}\".format(distMoon, orbitalPeriod(distMoon, EARTH_MASS, MOON_MASS)))\n"
   ]
  },
  {
   "cell_type": "code",
   "execution_count": null,
   "id": "210635a6",
   "metadata": {},
   "outputs": [],
   "source": []
  }
 ],
 "metadata": {
  "kernelspec": {
   "display_name": "Python 3 (ipykernel)",
   "language": "python",
   "name": "python3"
  },
  "language_info": {
   "codemirror_mode": {
    "name": "ipython",
    "version": 3
   },
   "file_extension": ".py",
   "mimetype": "text/x-python",
   "name": "python",
   "nbconvert_exporter": "python",
   "pygments_lexer": "ipython3",
   "version": "3.10.8"
  }
 },
 "nbformat": 4,
 "nbformat_minor": 5
}
