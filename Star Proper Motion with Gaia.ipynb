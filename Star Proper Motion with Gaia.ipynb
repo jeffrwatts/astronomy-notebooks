{
 "cells": [
  {
   "cell_type": "code",
   "execution_count": 1,
   "id": "b4df3aac",
   "metadata": {},
   "outputs": [],
   "source": [
    "import numpy as np\n",
    "import pandas as pd\n",
    "\n",
    "from astropy import units as u\n",
    "from astropy import constants as c\n",
    "from astropy.coordinates import SkyCoord\n",
    "\n",
    "from pypika import Table, CustomFunction\n",
    "from pypika.dialects import MSSQLQuery\n",
    "\n",
    "from astroquery.gaia import Gaia\n",
    "\n",
    "import matplotlib.pyplot as plt\n",
    "from ipywidgets import interactive, Dropdown"
   ]
  },
  {
   "cell_type": "code",
   "execution_count": 2,
   "id": "f852ea3f",
   "metadata": {},
   "outputs": [],
   "source": [
    "def queryStars(coor, radius, dist_min, dist_max, top=100):\n",
    "    src = Table(\"gaiadr3.gaia_source_lite\")\n",
    "    funcDistance = CustomFunction('DISTANCE', ['ra_value', 'dec_value', 'ra_label', 'dec_label'])\n",
    "\n",
    "    q = MSSQLQuery \\\n",
    "        .from_(src) \\\n",
    "        .select(src.source_id, src.ra, src.dec, src.pmra, src.pmdec, src.parallax, src.phot_g_mean_mag, src.bp_rp, src.radial_velocity, src.teff_gspphot, src.logg_gspphot, src.mh_gspphot, src.distance_gspphot) \\\n",
    "        .top(top) \\\n",
    "        .where(funcDistance(coor.ra.value, coor.dec.value, 'ra', 'dec') < radius) \\\n",
    "        .where(src.distance_gspphot <= dist_max) \\\n",
    "        .where(src.distance_gspphot >= dist_min) \\\n",
    "        .where(src.ruwe <1.4) \\\n",
    "        .where(src.parallax_over_error >10)\n",
    "\n",
    "    query_sql = q.get_sql() \n",
    "    query_sql = query_sql.replace('\"', '')                       # Remove \"\" around any select\n",
    "    query_sql = query_sql.replace(\"'ra'\", \"ra\")                  # Remove \"\" around ra in DISTANCE function if used\n",
    "    query_sql = query_sql.replace(\"'dec'\", \"dec\")                # Remove \"\" around dec in DISTANCE function if used\n",
    "    query_sql = query_sql.replace(f\"TOP ({top})\", f\"TOP {top}\")  # Remove \"()\" around TOP\n",
    "\n",
    "    job     = Gaia.launch_job_async(query_sql)\n",
    "    results = job.get_results()\n",
    "    df = results.to_pandas()\n",
    "    df['source_id'] = df['source_id'].astype(str)\n",
    "    return df"
   ]
  },
  {
   "cell_type": "code",
   "execution_count": 3,
   "id": "6ba57d20",
   "metadata": {},
   "outputs": [
    {
     "name": "stdout",
     "output_type": "stream",
     "text": [
      "INFO: Query finished. [astroquery.utils.tap.core]\n",
      "INFO: Query finished. [astroquery.utils.tap.core]\n",
      "INFO: Query finished. [astroquery.utils.tap.core]\n"
     ]
    }
   ],
   "source": [
    "#Pleiades (M45)\n",
    "# Coordinates: RA = 03h 47m 00s, DEC = +24° 07' 00\"\n",
    "# Approximate distance: 136.2 pc (parallax = 7.364 mas)\n",
    "# Distance range: 122.6 - 149.8 pc\n",
    "# Suggested search radius: 2 degrees\n",
    "# Expected Radial velocity: ~5.6 km/s (toward us)\n",
    "coord_pleiades = SkyCoord('03h47m00s', '+24d07m00s', frame='icrs')\n",
    "df_pleiades = queryStars(coord_pleiades, 2, 122.6, 149.8)\n",
    "\n",
    "\n",
    "# Hyades\n",
    "# Coordinates: RA = 04h 27m 00s, DEC = +15° 52' 00\"\n",
    "# Approximate distance: 47.0 pc (parallax = 21.278 mas)\n",
    "# Distance range: 42.3 - 51.7 pc\n",
    "# Suggested search radius: 5 degrees\n",
    "coord_hyades = SkyCoord('04h27m00s', '+15d52m00s', frame='icrs')\n",
    "df_hyades = queryStars(coord_hyades, 5, 42.3, 51.7)\n",
    "\n",
    "\n",
    "# Beehive Cluster (M44)\n",
    "# Coordinates: RA = 08h 40m 24s, DEC = +19° 40' 00\"\n",
    "# Approximate distance: 181 pc (parallax = 5.512 mas)\n",
    "# Distance range: 162.9 - 199.1 pc\n",
    "# Suggested search radius: 1 degree\n",
    "coord_beehive = SkyCoord('08h40m24s', '+19d40m00s', frame='icrs')\n",
    "df_beehive = queryStars(coord_beehive, 1, 162.9, 199.1)\n"
   ]
  },
  {
   "cell_type": "code",
   "execution_count": 4,
   "id": "4066deff",
   "metadata": {},
   "outputs": [
    {
     "data": {
      "application/vnd.jupyter.widget-view+json": {
       "model_id": "55ce82cd198a4b4cb22df4ce9ae74ade",
       "version_major": 2,
       "version_minor": 0
      },
      "text/plain": [
       "interactive(children=(Dropdown(description='Cluster:', options=('Pleiades', 'Hyades', 'Beehive Cluster (M44)')…"
      ]
     },
     "metadata": {},
     "output_type": "display_data"
    }
   ],
   "source": [
    "clusters = {'Pleiades': df_pleiades, \n",
    "            'Hyades': df_hyades, \n",
    "            'Beehive Cluster (M44)': df_beehive}\n",
    "\n",
    "\n",
    "# Function to update star positions based on proper motion and time\n",
    "def update_star_positions(data, time):\n",
    "    data_updated = data.copy()\n",
    "    data_updated['ra'] += data['pmra'] * time / (3600 * 1000)  # Convert mas/yr to degrees\n",
    "    data_updated['dec'] += data['pmdec'] * time / (3600 * 1000)  # Convert mas/yr to degrees\n",
    "    return data_updated\n",
    "\n",
    "def plot_star_motion(cluster, time):\n",
    "    data = clusters[cluster]\n",
    "    data_updated = update_star_positions(data, time)\n",
    "\n",
    "    plt.figure(figsize=(8, 6))\n",
    "    plt.scatter(data_updated['ra'], data_updated['dec'], marker='o', s=50)\n",
    "    plt.xlabel('Right Ascension')\n",
    "    plt.ylabel('Declination')\n",
    "    plt.title(f'{cluster} Motion Over Time')\n",
    "    plt.xlim(min(data['ra']) - 1, max(data['ra']) + 1)\n",
    "    plt.ylim(min(data['dec']) - 1, max(data['dec']) + 1)\n",
    "    plt.grid()\n",
    "    plt.show()\n",
    "\n",
    "cluster_dropdown = Dropdown(options=list(clusters.keys()), description='Cluster:')\n",
    "time_slider = interactive(plot_star_motion, cluster=cluster_dropdown, time=(0, 10000, 10))\n",
    "\n",
    "#display(cluster_dropdown)\n",
    "display(time_slider)"
   ]
  }
 ],
 "metadata": {
  "kernelspec": {
   "display_name": "Python 3 (ipykernel)",
   "language": "python",
   "name": "python3"
  },
  "language_info": {
   "codemirror_mode": {
    "name": "ipython",
    "version": 3
   },
   "file_extension": ".py",
   "mimetype": "text/x-python",
   "name": "python",
   "nbconvert_exporter": "python",
   "pygments_lexer": "ipython3",
   "version": "3.10.10"
  }
 },
 "nbformat": 4,
 "nbformat_minor": 5
}
